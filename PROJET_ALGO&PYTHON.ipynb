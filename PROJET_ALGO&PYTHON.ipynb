{
 "cells": [
  {
   "cell_type": "markdown",
   "id": "ec7e7266",
   "metadata": {},
   "source": [
    "<h3 align=\"center\"> Membres du groupe </h3>\n",
    "\n",
    "  \n",
    "- **CISSE  Mohamedou** \n",
    "- **DIALLO Abdoulaye**\n",
    "- **DIALLO Aboubacar**\n",
    "- **NIANG  Mamadou**\n",
    "- **OUNI   Safa**"
   ]
  },
  {
   "cell_type": "markdown",
   "id": "cb8330bb",
   "metadata": {},
   "source": [
    "\n",
    "<h3 align=\"center\"> TELECOM CHURN ANALYSIS: IBM DATASET </h3>\n"
   ]
  },
  {
   "cell_type": "markdown",
   "id": "03b4f214",
   "metadata": {},
   "source": [
    "\n",
    "Dans cette étude, nous modélisons une variable \"Résiliation de contrat par les clients\" pour une société de télécommunication implantée dans les différentes villes de l'Etat de Californie aux Etats-Unis. Il s'agit de prédire si un client va résilier ou pas son contrat avec la société en question.\n",
    "\n",
    "Notre base de données contient 7043 observations et 33 variables portant sur les clients de ladite société. Parmi ces dernières, on retrouve \"Churn Value\", notre variable cible qui prend la valeur 1 si le client résilie son contrat et 0 sinon. Les informations complètes sur les autres variables sont disponibles sur le lien suivant: https://community.ibm.com/community/user/businessanalytics/blogs/steven-macko/2019/07/11/telco-customer-churn-1113\n",
    "\n",
    "La base de données est accessible à partir du lien suivant: https://www.google.com/url?q=https%3A%2F%2Fcommunity.ibm.com%2Faccelerators%2F%3Fcontext%3Danalytics%26query%3Dtelco%2520churn%26type%3DData%26product%3DCognos%2520Analytics&source=datasetsearch\n",
    "\n",
    "Au début de notre étude, nous effectuons une prise en main de la base de données en affichant les noms, les types et les caractéristiques des différentes variables. Ensuite on passe au calcul des différentes statistiques des variables. Puis nous allons effectuer quelques visualisations graphiques, souvent issues de croisement entre différentes variables. Pour finir avec la modélisation.\n"
   ]
  },
  {
   "cell_type": "markdown",
   "id": "20c7aba0",
   "metadata": {},
   "source": [
    "<h3 align=\"center\"> TABLE DES MATIERES </h3>\n",
    "\n",
    "- I. **IMPORTATION ET ANALYSES PRELIMINAIRES DE LA BD**\n",
    "\n",
    "    - I.1 *EDA (Exploraty Data Analysis)*\n",
    "    - I.2 *Etude des corrélations*\n",
    "        - I.2.1 Corrélations quanti vs quanti\n",
    "        - I.2.2 Corrélations quali vs quali\n",
    "        - I.2.3 Corrélations quanti vs quali\n",
    "      \n",
    "- II. **MODELISATION**\n",
    "\n",
    "    - II.1 *MODELES NON OPTIMISES*\n",
    "        \n",
    "    - II.2 *MODELES OPTIMISES (AVEC DONNEES EQUILIBREES)*\n",
    "        -  II.2.1 Random Forest\n",
    "        -  II.2.2 Régression Logistique\n",
    "        -  II.2.3 KNN\n",
    "    \n",
    "- III. **CONCLUSION**"
   ]
  },
  {
   "cell_type": "markdown",
   "id": "22d83d1c",
   "metadata": {},
   "source": [
    "# I. IMPORTATION ET ANALYSES PRELIMINAIRES DE LA BD"
   ]
  },
  {
   "cell_type": "code",
   "execution_count": 1,
   "id": "2a4d3e8a",
   "metadata": {},
   "outputs": [],
   "source": [
    "#Importation des packages nécessaires\n",
    "import numpy as np\n",
    "import pandas as pd\n",
    "import matplotlib.pyplot as plt\n",
    "import seaborn as sns\n",
    "import matplotlib.ticker as mtick \n",
    "from scipy.stats import chi2_contingency\n",
    "from sklearn.preprocessing import LabelEncoder, OneHotEncoder, StandardScaler, RobustScaler\n",
    "from sklearn.neighbors import KNeighborsClassifier\n",
    "from sklearn.model_selection import GridSearchCV\n",
    "from sklearn.model_selection import cross_val_score, validation_curve\n",
    "from sklearn.metrics import accuracy_score, confusion_matrix, roc_curve, roc_auc_score\n",
    "from sklearn.model_selection import train_test_split\n",
    "from sklearn.linear_model import LogisticRegression\n",
    "from sklearn.ensemble import RandomForestClassifier\n",
    "from sklearn.pipeline import make_pipeline\n"
   ]
  },
  {
   "cell_type": "code",
   "execution_count": 2,
   "id": "b321a4f6",
   "metadata": {},
   "outputs": [],
   "source": [
    "#Pour ne pas afficher les warnings\n",
    "import warnings\n",
    "warnings.filterwarnings('ignore')"
   ]
  },
  {
   "cell_type": "code",
   "execution_count": 3,
   "id": "0478278c",
   "metadata": {},
   "outputs": [],
   "source": [
    "df0 = pd.read_excel(\"Telco_customer_churn.xlsx\") # Importation de la base de données"
   ]
  },
  {
   "cell_type": "code",
   "execution_count": 4,
   "id": "56ae854e",
   "metadata": {},
   "outputs": [
    {
     "name": "stdout",
     "output_type": "stream",
     "text": [
      "La définition de Contract est : Indicates the customer’s current contract type: Month-to-Month, One Year, Two Year. \n",
      "\n"
     ]
    }
   ],
   "source": [
    "# On crée une fonction qui nous explicite, au besoin, la signification d'une variable donnée\n",
    "\n",
    "dico=pd.read_excel(\"dictionnaire.xlsx\")\n",
    "\n",
    "def de(col):\n",
    "    b=dico[dico[\"variables\"]==col].iloc[0,1]\n",
    "    print(\"La définition de\", col, \"est :\", b, \"\\n\")\n",
    "    return \n",
    "\n",
    "de('Contract')"
   ]
  },
  {
   "cell_type": "markdown",
   "id": "e4eac5f6",
   "metadata": {},
   "source": [
    "## I.1 EDA (Exploraty Data Analysis)"
   ]
  },
  {
   "cell_type": "code",
   "execution_count": 5,
   "id": "8ef7d834",
   "metadata": {},
   "outputs": [
    {
     "data": {
      "text/plain": [
       "(7043, 33)"
      ]
     },
     "execution_count": 5,
     "metadata": {},
     "output_type": "execute_result"
    }
   ],
   "source": [
    "df0.shape # Affichage de la dimension du data frame"
   ]
  },
  {
   "cell_type": "code",
   "execution_count": 6,
   "id": "32fcbcff",
   "metadata": {},
   "outputs": [
    {
     "data": {
      "text/html": [
       "<div>\n",
       "<style scoped>\n",
       "    .dataframe tbody tr th:only-of-type {\n",
       "        vertical-align: middle;\n",
       "    }\n",
       "\n",
       "    .dataframe tbody tr th {\n",
       "        vertical-align: top;\n",
       "    }\n",
       "\n",
       "    .dataframe thead th {\n",
       "        text-align: right;\n",
       "    }\n",
       "</style>\n",
       "<table border=\"1\" class=\"dataframe\">\n",
       "  <thead>\n",
       "    <tr style=\"text-align: right;\">\n",
       "      <th></th>\n",
       "      <th>CustomerID</th>\n",
       "      <th>Count</th>\n",
       "      <th>Country</th>\n",
       "      <th>State</th>\n",
       "      <th>City</th>\n",
       "      <th>Zip Code</th>\n",
       "      <th>Lat Long</th>\n",
       "      <th>Latitude</th>\n",
       "      <th>Longitude</th>\n",
       "      <th>Gender</th>\n",
       "      <th>...</th>\n",
       "      <th>Contract</th>\n",
       "      <th>Paperless Billing</th>\n",
       "      <th>Payment Method</th>\n",
       "      <th>Monthly Charges</th>\n",
       "      <th>Total Charges</th>\n",
       "      <th>Churn Label</th>\n",
       "      <th>Churn Value</th>\n",
       "      <th>Churn Score</th>\n",
       "      <th>CLTV</th>\n",
       "      <th>Churn Reason</th>\n",
       "    </tr>\n",
       "  </thead>\n",
       "  <tbody>\n",
       "    <tr>\n",
       "      <th>0</th>\n",
       "      <td>3668-QPYBK</td>\n",
       "      <td>1</td>\n",
       "      <td>United States</td>\n",
       "      <td>California</td>\n",
       "      <td>Los Angeles</td>\n",
       "      <td>90003</td>\n",
       "      <td>33.964131, -118.272783</td>\n",
       "      <td>33.964131</td>\n",
       "      <td>-118.272783</td>\n",
       "      <td>Male</td>\n",
       "      <td>...</td>\n",
       "      <td>Month-to-month</td>\n",
       "      <td>Yes</td>\n",
       "      <td>Mailed check</td>\n",
       "      <td>53.85</td>\n",
       "      <td>108.15</td>\n",
       "      <td>Yes</td>\n",
       "      <td>1</td>\n",
       "      <td>86</td>\n",
       "      <td>3239</td>\n",
       "      <td>Competitor made better offer</td>\n",
       "    </tr>\n",
       "    <tr>\n",
       "      <th>1</th>\n",
       "      <td>9237-HQITU</td>\n",
       "      <td>1</td>\n",
       "      <td>United States</td>\n",
       "      <td>California</td>\n",
       "      <td>Los Angeles</td>\n",
       "      <td>90005</td>\n",
       "      <td>34.059281, -118.30742</td>\n",
       "      <td>34.059281</td>\n",
       "      <td>-118.307420</td>\n",
       "      <td>Female</td>\n",
       "      <td>...</td>\n",
       "      <td>Month-to-month</td>\n",
       "      <td>Yes</td>\n",
       "      <td>Electronic check</td>\n",
       "      <td>70.70</td>\n",
       "      <td>151.65</td>\n",
       "      <td>Yes</td>\n",
       "      <td>1</td>\n",
       "      <td>67</td>\n",
       "      <td>2701</td>\n",
       "      <td>Moved</td>\n",
       "    </tr>\n",
       "    <tr>\n",
       "      <th>2</th>\n",
       "      <td>9305-CDSKC</td>\n",
       "      <td>1</td>\n",
       "      <td>United States</td>\n",
       "      <td>California</td>\n",
       "      <td>Los Angeles</td>\n",
       "      <td>90006</td>\n",
       "      <td>34.048013, -118.293953</td>\n",
       "      <td>34.048013</td>\n",
       "      <td>-118.293953</td>\n",
       "      <td>Female</td>\n",
       "      <td>...</td>\n",
       "      <td>Month-to-month</td>\n",
       "      <td>Yes</td>\n",
       "      <td>Electronic check</td>\n",
       "      <td>99.65</td>\n",
       "      <td>820.5</td>\n",
       "      <td>Yes</td>\n",
       "      <td>1</td>\n",
       "      <td>86</td>\n",
       "      <td>5372</td>\n",
       "      <td>Moved</td>\n",
       "    </tr>\n",
       "    <tr>\n",
       "      <th>3</th>\n",
       "      <td>7892-POOKP</td>\n",
       "      <td>1</td>\n",
       "      <td>United States</td>\n",
       "      <td>California</td>\n",
       "      <td>Los Angeles</td>\n",
       "      <td>90010</td>\n",
       "      <td>34.062125, -118.315709</td>\n",
       "      <td>34.062125</td>\n",
       "      <td>-118.315709</td>\n",
       "      <td>Female</td>\n",
       "      <td>...</td>\n",
       "      <td>Month-to-month</td>\n",
       "      <td>Yes</td>\n",
       "      <td>Electronic check</td>\n",
       "      <td>104.80</td>\n",
       "      <td>3046.05</td>\n",
       "      <td>Yes</td>\n",
       "      <td>1</td>\n",
       "      <td>84</td>\n",
       "      <td>5003</td>\n",
       "      <td>Moved</td>\n",
       "    </tr>\n",
       "    <tr>\n",
       "      <th>4</th>\n",
       "      <td>0280-XJGEX</td>\n",
       "      <td>1</td>\n",
       "      <td>United States</td>\n",
       "      <td>California</td>\n",
       "      <td>Los Angeles</td>\n",
       "      <td>90015</td>\n",
       "      <td>34.039224, -118.266293</td>\n",
       "      <td>34.039224</td>\n",
       "      <td>-118.266293</td>\n",
       "      <td>Male</td>\n",
       "      <td>...</td>\n",
       "      <td>Month-to-month</td>\n",
       "      <td>Yes</td>\n",
       "      <td>Bank transfer (automatic)</td>\n",
       "      <td>103.70</td>\n",
       "      <td>5036.3</td>\n",
       "      <td>Yes</td>\n",
       "      <td>1</td>\n",
       "      <td>89</td>\n",
       "      <td>5340</td>\n",
       "      <td>Competitor had better devices</td>\n",
       "    </tr>\n",
       "  </tbody>\n",
       "</table>\n",
       "<p>5 rows × 33 columns</p>\n",
       "</div>"
      ],
      "text/plain": [
       "   CustomerID  Count        Country       State         City  Zip Code  \\\n",
       "0  3668-QPYBK      1  United States  California  Los Angeles     90003   \n",
       "1  9237-HQITU      1  United States  California  Los Angeles     90005   \n",
       "2  9305-CDSKC      1  United States  California  Los Angeles     90006   \n",
       "3  7892-POOKP      1  United States  California  Los Angeles     90010   \n",
       "4  0280-XJGEX      1  United States  California  Los Angeles     90015   \n",
       "\n",
       "                 Lat Long   Latitude   Longitude  Gender  ...        Contract  \\\n",
       "0  33.964131, -118.272783  33.964131 -118.272783    Male  ...  Month-to-month   \n",
       "1   34.059281, -118.30742  34.059281 -118.307420  Female  ...  Month-to-month   \n",
       "2  34.048013, -118.293953  34.048013 -118.293953  Female  ...  Month-to-month   \n",
       "3  34.062125, -118.315709  34.062125 -118.315709  Female  ...  Month-to-month   \n",
       "4  34.039224, -118.266293  34.039224 -118.266293    Male  ...  Month-to-month   \n",
       "\n",
       "  Paperless Billing             Payment Method  Monthly Charges Total Charges  \\\n",
       "0               Yes               Mailed check            53.85        108.15   \n",
       "1               Yes           Electronic check            70.70        151.65   \n",
       "2               Yes           Electronic check            99.65         820.5   \n",
       "3               Yes           Electronic check           104.80       3046.05   \n",
       "4               Yes  Bank transfer (automatic)           103.70        5036.3   \n",
       "\n",
       "  Churn Label Churn Value Churn Score  CLTV                   Churn Reason  \n",
       "0         Yes           1          86  3239   Competitor made better offer  \n",
       "1         Yes           1          67  2701                          Moved  \n",
       "2         Yes           1          86  5372                          Moved  \n",
       "3         Yes           1          84  5003                          Moved  \n",
       "4         Yes           1          89  5340  Competitor had better devices  \n",
       "\n",
       "[5 rows x 33 columns]"
      ]
     },
     "execution_count": 6,
     "metadata": {},
     "output_type": "execute_result"
    }
   ],
   "source": [
    "df0.head() # Affichage des 5 premières observations"
   ]
  },
  {
   "cell_type": "code",
   "execution_count": 7,
   "id": "1490da81",
   "metadata": {},
   "outputs": [
    {
     "data": {
      "text/html": [
       "<div>\n",
       "<style scoped>\n",
       "    .dataframe tbody tr th:only-of-type {\n",
       "        vertical-align: middle;\n",
       "    }\n",
       "\n",
       "    .dataframe tbody tr th {\n",
       "        vertical-align: top;\n",
       "    }\n",
       "\n",
       "    .dataframe thead th {\n",
       "        text-align: right;\n",
       "    }\n",
       "</style>\n",
       "<table border=\"1\" class=\"dataframe\">\n",
       "  <thead>\n",
       "    <tr style=\"text-align: right;\">\n",
       "      <th></th>\n",
       "      <th>Count</th>\n",
       "      <th>Zip Code</th>\n",
       "      <th>Latitude</th>\n",
       "      <th>Longitude</th>\n",
       "      <th>Tenure Months</th>\n",
       "      <th>Monthly Charges</th>\n",
       "      <th>Churn Value</th>\n",
       "      <th>Churn Score</th>\n",
       "      <th>CLTV</th>\n",
       "    </tr>\n",
       "  </thead>\n",
       "  <tbody>\n",
       "    <tr>\n",
       "      <th>count</th>\n",
       "      <td>7043.0</td>\n",
       "      <td>7043.000000</td>\n",
       "      <td>7043.000000</td>\n",
       "      <td>7043.000000</td>\n",
       "      <td>7043.000000</td>\n",
       "      <td>7043.000000</td>\n",
       "      <td>7043.000000</td>\n",
       "      <td>7043.000000</td>\n",
       "      <td>7043.000000</td>\n",
       "    </tr>\n",
       "    <tr>\n",
       "      <th>mean</th>\n",
       "      <td>1.0</td>\n",
       "      <td>93521.964646</td>\n",
       "      <td>36.282441</td>\n",
       "      <td>-119.798880</td>\n",
       "      <td>32.371149</td>\n",
       "      <td>64.761692</td>\n",
       "      <td>0.265370</td>\n",
       "      <td>58.699418</td>\n",
       "      <td>4400.295755</td>\n",
       "    </tr>\n",
       "    <tr>\n",
       "      <th>std</th>\n",
       "      <td>0.0</td>\n",
       "      <td>1865.794555</td>\n",
       "      <td>2.455723</td>\n",
       "      <td>2.157889</td>\n",
       "      <td>24.559481</td>\n",
       "      <td>30.090047</td>\n",
       "      <td>0.441561</td>\n",
       "      <td>21.525131</td>\n",
       "      <td>1183.057152</td>\n",
       "    </tr>\n",
       "    <tr>\n",
       "      <th>min</th>\n",
       "      <td>1.0</td>\n",
       "      <td>90001.000000</td>\n",
       "      <td>32.555828</td>\n",
       "      <td>-124.301372</td>\n",
       "      <td>0.000000</td>\n",
       "      <td>18.250000</td>\n",
       "      <td>0.000000</td>\n",
       "      <td>5.000000</td>\n",
       "      <td>2003.000000</td>\n",
       "    </tr>\n",
       "    <tr>\n",
       "      <th>25%</th>\n",
       "      <td>1.0</td>\n",
       "      <td>92102.000000</td>\n",
       "      <td>34.030915</td>\n",
       "      <td>-121.815412</td>\n",
       "      <td>9.000000</td>\n",
       "      <td>35.500000</td>\n",
       "      <td>0.000000</td>\n",
       "      <td>40.000000</td>\n",
       "      <td>3469.000000</td>\n",
       "    </tr>\n",
       "    <tr>\n",
       "      <th>50%</th>\n",
       "      <td>1.0</td>\n",
       "      <td>93552.000000</td>\n",
       "      <td>36.391777</td>\n",
       "      <td>-119.730885</td>\n",
       "      <td>29.000000</td>\n",
       "      <td>70.350000</td>\n",
       "      <td>0.000000</td>\n",
       "      <td>61.000000</td>\n",
       "      <td>4527.000000</td>\n",
       "    </tr>\n",
       "    <tr>\n",
       "      <th>75%</th>\n",
       "      <td>1.0</td>\n",
       "      <td>95351.000000</td>\n",
       "      <td>38.224869</td>\n",
       "      <td>-118.043237</td>\n",
       "      <td>55.000000</td>\n",
       "      <td>89.850000</td>\n",
       "      <td>1.000000</td>\n",
       "      <td>75.000000</td>\n",
       "      <td>5380.500000</td>\n",
       "    </tr>\n",
       "    <tr>\n",
       "      <th>max</th>\n",
       "      <td>1.0</td>\n",
       "      <td>96161.000000</td>\n",
       "      <td>41.962127</td>\n",
       "      <td>-114.192901</td>\n",
       "      <td>72.000000</td>\n",
       "      <td>118.750000</td>\n",
       "      <td>1.000000</td>\n",
       "      <td>100.000000</td>\n",
       "      <td>6500.000000</td>\n",
       "    </tr>\n",
       "  </tbody>\n",
       "</table>\n",
       "</div>"
      ],
      "text/plain": [
       "        Count      Zip Code     Latitude    Longitude  Tenure Months  \\\n",
       "count  7043.0   7043.000000  7043.000000  7043.000000    7043.000000   \n",
       "mean      1.0  93521.964646    36.282441  -119.798880      32.371149   \n",
       "std       0.0   1865.794555     2.455723     2.157889      24.559481   \n",
       "min       1.0  90001.000000    32.555828  -124.301372       0.000000   \n",
       "25%       1.0  92102.000000    34.030915  -121.815412       9.000000   \n",
       "50%       1.0  93552.000000    36.391777  -119.730885      29.000000   \n",
       "75%       1.0  95351.000000    38.224869  -118.043237      55.000000   \n",
       "max       1.0  96161.000000    41.962127  -114.192901      72.000000   \n",
       "\n",
       "       Monthly Charges  Churn Value  Churn Score         CLTV  \n",
       "count      7043.000000  7043.000000  7043.000000  7043.000000  \n",
       "mean         64.761692     0.265370    58.699418  4400.295755  \n",
       "std          30.090047     0.441561    21.525131  1183.057152  \n",
       "min          18.250000     0.000000     5.000000  2003.000000  \n",
       "25%          35.500000     0.000000    40.000000  3469.000000  \n",
       "50%          70.350000     0.000000    61.000000  4527.000000  \n",
       "75%          89.850000     1.000000    75.000000  5380.500000  \n",
       "max         118.750000     1.000000   100.000000  6500.000000  "
      ]
     },
     "execution_count": 7,
     "metadata": {},
     "output_type": "execute_result"
    }
   ],
   "source": [
    "df0.describe() # Calcul des statistiques descriptives"
   ]
  },
  {
   "cell_type": "code",
   "execution_count": 8,
   "id": "47e1f3a6",
   "metadata": {},
   "outputs": [
    {
     "name": "stdout",
     "output_type": "stream",
     "text": [
      "<class 'pandas.core.frame.DataFrame'>\n",
      "RangeIndex: 7043 entries, 0 to 7042\n",
      "Data columns (total 33 columns):\n",
      " #   Column             Non-Null Count  Dtype  \n",
      "---  ------             --------------  -----  \n",
      " 0   CustomerID         7043 non-null   object \n",
      " 1   Count              7043 non-null   int64  \n",
      " 2   Country            7043 non-null   object \n",
      " 3   State              7043 non-null   object \n",
      " 4   City               7043 non-null   object \n",
      " 5   Zip Code           7043 non-null   int64  \n",
      " 6   Lat Long           7043 non-null   object \n",
      " 7   Latitude           7043 non-null   float64\n",
      " 8   Longitude          7043 non-null   float64\n",
      " 9   Gender             7043 non-null   object \n",
      " 10  Senior Citizen     7043 non-null   object \n",
      " 11  Partner            7043 non-null   object \n",
      " 12  Dependents         7043 non-null   object \n",
      " 13  Tenure Months      7043 non-null   int64  \n",
      " 14  Phone Service      7043 non-null   object \n",
      " 15  Multiple Lines     7043 non-null   object \n",
      " 16  Internet Service   7043 non-null   object \n",
      " 17  Online Security    7043 non-null   object \n",
      " 18  Online Backup      7043 non-null   object \n",
      " 19  Device Protection  7043 non-null   object \n",
      " 20  Tech Support       7043 non-null   object \n",
      " 21  Streaming TV       7043 non-null   object \n",
      " 22  Streaming Movies   7043 non-null   object \n",
      " 23  Contract           7043 non-null   object \n",
      " 24  Paperless Billing  7043 non-null   object \n",
      " 25  Payment Method     7043 non-null   object \n",
      " 26  Monthly Charges    7043 non-null   float64\n",
      " 27  Total Charges      7043 non-null   object \n",
      " 28  Churn Label        7043 non-null   object \n",
      " 29  Churn Value        7043 non-null   int64  \n",
      " 30  Churn Score        7043 non-null   int64  \n",
      " 31  CLTV               7043 non-null   int64  \n",
      " 32  Churn Reason       1869 non-null   object \n",
      "dtypes: float64(3), int64(6), object(24)\n",
      "memory usage: 1.8+ MB\n"
     ]
    }
   ],
   "source": [
    "df0.info() # Affichage des infos (nom, type, nombre de cases non nulles) des variables "
   ]
  },
  {
   "cell_type": "markdown",
   "id": "0bb673e0",
   "metadata": {},
   "source": [
    "On remarque que la variable 'Total Charges' est qualitative alors qu'on s'attendait à ce qu'elle soit qauntitative."
   ]
  },
  {
   "cell_type": "code",
   "execution_count": 342,
   "id": "06735856",
   "metadata": {},
   "outputs": [
    {
     "data": {
      "text/plain": [
       "CustomerID           7043\n",
       "Count                   1\n",
       "Country                 1\n",
       "State                   1\n",
       "City                 1129\n",
       "Zip Code             1652\n",
       "Lat Long             1652\n",
       "Latitude             1652\n",
       "Longitude            1651\n",
       "Gender                  2\n",
       "Senior Citizen          2\n",
       "Partner                 2\n",
       "Dependents              2\n",
       "Tenure Months          73\n",
       "Phone Service           2\n",
       "Multiple Lines          3\n",
       "Internet Service        3\n",
       "Online Security         3\n",
       "Online Backup           3\n",
       "Device Protection       3\n",
       "Tech Support            3\n",
       "Streaming TV            3\n",
       "Streaming Movies        3\n",
       "Contract                3\n",
       "Paperless Billing       2\n",
       "Payment Method          4\n",
       "Monthly Charges      1585\n",
       "Total Charges        6531\n",
       "Churn Label             2\n",
       "Churn Value             2\n",
       "Churn Score            85\n",
       "CLTV                 3438\n",
       "Churn Reason           20\n",
       "dtype: int64"
      ]
     },
     "execution_count": 342,
     "metadata": {},
     "output_type": "execute_result"
    }
   ],
   "source": [
    "df0.nunique() # Nombre de modalités de chaque variable"
   ]
  },
  {
   "cell_type": "code",
   "execution_count": 343,
   "id": "37002398",
   "metadata": {},
   "outputs": [
    {
     "data": {
      "text/plain": [
       "CustomerID            0.000000\n",
       "Count                 0.000000\n",
       "Country               0.000000\n",
       "State                 0.000000\n",
       "City                  0.000000\n",
       "Zip Code              0.000000\n",
       "Lat Long              0.000000\n",
       "Latitude              0.000000\n",
       "Longitude             0.000000\n",
       "Gender                0.000000\n",
       "Senior Citizen        0.000000\n",
       "Partner               0.000000\n",
       "Dependents            0.000000\n",
       "Tenure Months         0.000000\n",
       "Phone Service         0.000000\n",
       "Multiple Lines        0.000000\n",
       "Internet Service      0.000000\n",
       "Online Security       0.000000\n",
       "Online Backup         0.000000\n",
       "Device Protection     0.000000\n",
       "Tech Support          0.000000\n",
       "Streaming TV          0.000000\n",
       "Streaming Movies      0.000000\n",
       "Contract              0.000000\n",
       "Paperless Billing     0.000000\n",
       "Payment Method        0.000000\n",
       "Monthly Charges       0.000000\n",
       "Total Charges         0.000000\n",
       "Churn Label           0.000000\n",
       "Churn Value           0.000000\n",
       "Churn Score           0.000000\n",
       "CLTV                  0.000000\n",
       "Churn Reason         73.463013\n",
       "dtype: float64"
      ]
     },
     "execution_count": 343,
     "metadata": {},
     "output_type": "execute_result"
    }
   ],
   "source": [
    "# Pourcentage des valeurs manquantes de chaque variable\n",
    "percent_missing = df0.isnull().sum() * 100 / len(df0)\n",
    "percent_missing"
   ]
  },
  {
   "cell_type": "code",
   "execution_count": 9,
   "id": "1c2734f9",
   "metadata": {},
   "outputs": [],
   "source": [
    "# Fct retournant pour chaque variable le type, les 5 premières modalités et ainsi que le nbre de modalité \n",
    "def report(df):\n",
    "    col = []\n",
    "    d_type = []\n",
    "    uniques = []\n",
    "    n_uniques = []\n",
    "    \n",
    "    for i in df.columns:\n",
    "        col.append(i)\n",
    "        d_type.append(df[i].dtypes)\n",
    "        uniques.append(df[i].unique()[:5])\n",
    "        n_uniques.append(df[i].nunique())\n",
    "    \n",
    "    return pd.DataFrame({'Column': col, 'd_type': d_type, 'unique_sample': uniques, 'n_uniques': n_uniques})"
   ]
  },
  {
   "cell_type": "code",
   "execution_count": 10,
   "id": "4f6ae70e",
   "metadata": {},
   "outputs": [
    {
     "data": {
      "text/html": [
       "<div>\n",
       "<style scoped>\n",
       "    .dataframe tbody tr th:only-of-type {\n",
       "        vertical-align: middle;\n",
       "    }\n",
       "\n",
       "    .dataframe tbody tr th {\n",
       "        vertical-align: top;\n",
       "    }\n",
       "\n",
       "    .dataframe thead th {\n",
       "        text-align: right;\n",
       "    }\n",
       "</style>\n",
       "<table border=\"1\" class=\"dataframe\">\n",
       "  <thead>\n",
       "    <tr style=\"text-align: right;\">\n",
       "      <th></th>\n",
       "      <th>Column</th>\n",
       "      <th>d_type</th>\n",
       "      <th>unique_sample</th>\n",
       "      <th>n_uniques</th>\n",
       "    </tr>\n",
       "  </thead>\n",
       "  <tbody>\n",
       "    <tr>\n",
       "      <th>0</th>\n",
       "      <td>CustomerID</td>\n",
       "      <td>object</td>\n",
       "      <td>[3668-QPYBK, 9237-HQITU, 9305-CDSKC, 7892-POOK...</td>\n",
       "      <td>7043</td>\n",
       "    </tr>\n",
       "    <tr>\n",
       "      <th>1</th>\n",
       "      <td>Count</td>\n",
       "      <td>int64</td>\n",
       "      <td>[1]</td>\n",
       "      <td>1</td>\n",
       "    </tr>\n",
       "    <tr>\n",
       "      <th>2</th>\n",
       "      <td>Country</td>\n",
       "      <td>object</td>\n",
       "      <td>[United States]</td>\n",
       "      <td>1</td>\n",
       "    </tr>\n",
       "    <tr>\n",
       "      <th>3</th>\n",
       "      <td>State</td>\n",
       "      <td>object</td>\n",
       "      <td>[California]</td>\n",
       "      <td>1</td>\n",
       "    </tr>\n",
       "    <tr>\n",
       "      <th>4</th>\n",
       "      <td>City</td>\n",
       "      <td>object</td>\n",
       "      <td>[Los Angeles, Beverly Hills, Huntington Park, ...</td>\n",
       "      <td>1129</td>\n",
       "    </tr>\n",
       "    <tr>\n",
       "      <th>5</th>\n",
       "      <td>Zip Code</td>\n",
       "      <td>int64</td>\n",
       "      <td>[90003, 90005, 90006, 90010, 90015]</td>\n",
       "      <td>1652</td>\n",
       "    </tr>\n",
       "    <tr>\n",
       "      <th>6</th>\n",
       "      <td>Lat Long</td>\n",
       "      <td>object</td>\n",
       "      <td>[33.964131, -118.272783, 34.059281, -118.30742...</td>\n",
       "      <td>1652</td>\n",
       "    </tr>\n",
       "    <tr>\n",
       "      <th>7</th>\n",
       "      <td>Latitude</td>\n",
       "      <td>float64</td>\n",
       "      <td>[33.964131, 34.059281, 34.048013, 34.062125, 3...</td>\n",
       "      <td>1652</td>\n",
       "    </tr>\n",
       "    <tr>\n",
       "      <th>8</th>\n",
       "      <td>Longitude</td>\n",
       "      <td>float64</td>\n",
       "      <td>[-118.272783, -118.30742, -118.293953, -118.31...</td>\n",
       "      <td>1651</td>\n",
       "    </tr>\n",
       "    <tr>\n",
       "      <th>9</th>\n",
       "      <td>Gender</td>\n",
       "      <td>object</td>\n",
       "      <td>[Male, Female]</td>\n",
       "      <td>2</td>\n",
       "    </tr>\n",
       "    <tr>\n",
       "      <th>10</th>\n",
       "      <td>Senior Citizen</td>\n",
       "      <td>object</td>\n",
       "      <td>[No, Yes]</td>\n",
       "      <td>2</td>\n",
       "    </tr>\n",
       "    <tr>\n",
       "      <th>11</th>\n",
       "      <td>Partner</td>\n",
       "      <td>object</td>\n",
       "      <td>[No, Yes]</td>\n",
       "      <td>2</td>\n",
       "    </tr>\n",
       "    <tr>\n",
       "      <th>12</th>\n",
       "      <td>Dependents</td>\n",
       "      <td>object</td>\n",
       "      <td>[No, Yes]</td>\n",
       "      <td>2</td>\n",
       "    </tr>\n",
       "    <tr>\n",
       "      <th>13</th>\n",
       "      <td>Tenure Months</td>\n",
       "      <td>int64</td>\n",
       "      <td>[2, 8, 28, 49, 10]</td>\n",
       "      <td>73</td>\n",
       "    </tr>\n",
       "    <tr>\n",
       "      <th>14</th>\n",
       "      <td>Phone Service</td>\n",
       "      <td>object</td>\n",
       "      <td>[Yes, No]</td>\n",
       "      <td>2</td>\n",
       "    </tr>\n",
       "    <tr>\n",
       "      <th>15</th>\n",
       "      <td>Multiple Lines</td>\n",
       "      <td>object</td>\n",
       "      <td>[No, Yes, No phone service]</td>\n",
       "      <td>3</td>\n",
       "    </tr>\n",
       "    <tr>\n",
       "      <th>16</th>\n",
       "      <td>Internet Service</td>\n",
       "      <td>object</td>\n",
       "      <td>[DSL, Fiber optic, No]</td>\n",
       "      <td>3</td>\n",
       "    </tr>\n",
       "    <tr>\n",
       "      <th>17</th>\n",
       "      <td>Online Security</td>\n",
       "      <td>object</td>\n",
       "      <td>[Yes, No, No internet service]</td>\n",
       "      <td>3</td>\n",
       "    </tr>\n",
       "    <tr>\n",
       "      <th>18</th>\n",
       "      <td>Online Backup</td>\n",
       "      <td>object</td>\n",
       "      <td>[Yes, No, No internet service]</td>\n",
       "      <td>3</td>\n",
       "    </tr>\n",
       "    <tr>\n",
       "      <th>19</th>\n",
       "      <td>Device Protection</td>\n",
       "      <td>object</td>\n",
       "      <td>[No, Yes, No internet service]</td>\n",
       "      <td>3</td>\n",
       "    </tr>\n",
       "    <tr>\n",
       "      <th>20</th>\n",
       "      <td>Tech Support</td>\n",
       "      <td>object</td>\n",
       "      <td>[No, Yes, No internet service]</td>\n",
       "      <td>3</td>\n",
       "    </tr>\n",
       "    <tr>\n",
       "      <th>21</th>\n",
       "      <td>Streaming TV</td>\n",
       "      <td>object</td>\n",
       "      <td>[No, Yes, No internet service]</td>\n",
       "      <td>3</td>\n",
       "    </tr>\n",
       "    <tr>\n",
       "      <th>22</th>\n",
       "      <td>Streaming Movies</td>\n",
       "      <td>object</td>\n",
       "      <td>[No, Yes, No internet service]</td>\n",
       "      <td>3</td>\n",
       "    </tr>\n",
       "    <tr>\n",
       "      <th>23</th>\n",
       "      <td>Contract</td>\n",
       "      <td>object</td>\n",
       "      <td>[Month-to-month, Two year, One year]</td>\n",
       "      <td>3</td>\n",
       "    </tr>\n",
       "    <tr>\n",
       "      <th>24</th>\n",
       "      <td>Paperless Billing</td>\n",
       "      <td>object</td>\n",
       "      <td>[Yes, No]</td>\n",
       "      <td>2</td>\n",
       "    </tr>\n",
       "    <tr>\n",
       "      <th>25</th>\n",
       "      <td>Payment Method</td>\n",
       "      <td>object</td>\n",
       "      <td>[Mailed check, Electronic check, Bank transfer...</td>\n",
       "      <td>4</td>\n",
       "    </tr>\n",
       "    <tr>\n",
       "      <th>26</th>\n",
       "      <td>Monthly Charges</td>\n",
       "      <td>float64</td>\n",
       "      <td>[53.85, 70.7, 99.65, 104.8, 103.7]</td>\n",
       "      <td>1585</td>\n",
       "    </tr>\n",
       "    <tr>\n",
       "      <th>27</th>\n",
       "      <td>Total Charges</td>\n",
       "      <td>object</td>\n",
       "      <td>[108.15, 151.65, 820.5, 3046.05, 5036.3]</td>\n",
       "      <td>6531</td>\n",
       "    </tr>\n",
       "    <tr>\n",
       "      <th>28</th>\n",
       "      <td>Churn Label</td>\n",
       "      <td>object</td>\n",
       "      <td>[Yes, No]</td>\n",
       "      <td>2</td>\n",
       "    </tr>\n",
       "    <tr>\n",
       "      <th>29</th>\n",
       "      <td>Churn Value</td>\n",
       "      <td>int64</td>\n",
       "      <td>[1, 0]</td>\n",
       "      <td>2</td>\n",
       "    </tr>\n",
       "    <tr>\n",
       "      <th>30</th>\n",
       "      <td>Churn Score</td>\n",
       "      <td>int64</td>\n",
       "      <td>[86, 67, 84, 89, 78]</td>\n",
       "      <td>85</td>\n",
       "    </tr>\n",
       "    <tr>\n",
       "      <th>31</th>\n",
       "      <td>CLTV</td>\n",
       "      <td>int64</td>\n",
       "      <td>[3239, 2701, 5372, 5003, 5340]</td>\n",
       "      <td>3438</td>\n",
       "    </tr>\n",
       "    <tr>\n",
       "      <th>32</th>\n",
       "      <td>Churn Reason</td>\n",
       "      <td>object</td>\n",
       "      <td>[Competitor made better offer, Moved, Competit...</td>\n",
       "      <td>20</td>\n",
       "    </tr>\n",
       "  </tbody>\n",
       "</table>\n",
       "</div>"
      ],
      "text/plain": [
       "               Column   d_type  \\\n",
       "0          CustomerID   object   \n",
       "1               Count    int64   \n",
       "2             Country   object   \n",
       "3               State   object   \n",
       "4                City   object   \n",
       "5            Zip Code    int64   \n",
       "6            Lat Long   object   \n",
       "7            Latitude  float64   \n",
       "8           Longitude  float64   \n",
       "9              Gender   object   \n",
       "10     Senior Citizen   object   \n",
       "11            Partner   object   \n",
       "12         Dependents   object   \n",
       "13      Tenure Months    int64   \n",
       "14      Phone Service   object   \n",
       "15     Multiple Lines   object   \n",
       "16   Internet Service   object   \n",
       "17    Online Security   object   \n",
       "18      Online Backup   object   \n",
       "19  Device Protection   object   \n",
       "20       Tech Support   object   \n",
       "21       Streaming TV   object   \n",
       "22   Streaming Movies   object   \n",
       "23           Contract   object   \n",
       "24  Paperless Billing   object   \n",
       "25     Payment Method   object   \n",
       "26    Monthly Charges  float64   \n",
       "27      Total Charges   object   \n",
       "28        Churn Label   object   \n",
       "29        Churn Value    int64   \n",
       "30        Churn Score    int64   \n",
       "31               CLTV    int64   \n",
       "32       Churn Reason   object   \n",
       "\n",
       "                                        unique_sample  n_uniques  \n",
       "0   [3668-QPYBK, 9237-HQITU, 9305-CDSKC, 7892-POOK...       7043  \n",
       "1                                                 [1]          1  \n",
       "2                                     [United States]          1  \n",
       "3                                        [California]          1  \n",
       "4   [Los Angeles, Beverly Hills, Huntington Park, ...       1129  \n",
       "5                 [90003, 90005, 90006, 90010, 90015]       1652  \n",
       "6   [33.964131, -118.272783, 34.059281, -118.30742...       1652  \n",
       "7   [33.964131, 34.059281, 34.048013, 34.062125, 3...       1652  \n",
       "8   [-118.272783, -118.30742, -118.293953, -118.31...       1651  \n",
       "9                                      [Male, Female]          2  \n",
       "10                                          [No, Yes]          2  \n",
       "11                                          [No, Yes]          2  \n",
       "12                                          [No, Yes]          2  \n",
       "13                                 [2, 8, 28, 49, 10]         73  \n",
       "14                                          [Yes, No]          2  \n",
       "15                        [No, Yes, No phone service]          3  \n",
       "16                             [DSL, Fiber optic, No]          3  \n",
       "17                     [Yes, No, No internet service]          3  \n",
       "18                     [Yes, No, No internet service]          3  \n",
       "19                     [No, Yes, No internet service]          3  \n",
       "20                     [No, Yes, No internet service]          3  \n",
       "21                     [No, Yes, No internet service]          3  \n",
       "22                     [No, Yes, No internet service]          3  \n",
       "23               [Month-to-month, Two year, One year]          3  \n",
       "24                                          [Yes, No]          2  \n",
       "25  [Mailed check, Electronic check, Bank transfer...          4  \n",
       "26                 [53.85, 70.7, 99.65, 104.8, 103.7]       1585  \n",
       "27           [108.15, 151.65, 820.5, 3046.05, 5036.3]       6531  \n",
       "28                                          [Yes, No]          2  \n",
       "29                                             [1, 0]          2  \n",
       "30                               [86, 67, 84, 89, 78]         85  \n",
       "31                     [3239, 2701, 5372, 5003, 5340]       3438  \n",
       "32  [Competitor made better offer, Moved, Competit...         20  "
      ]
     },
     "execution_count": 10,
     "metadata": {},
     "output_type": "execute_result"
    }
   ],
   "source": [
    "report(df0)"
   ]
  },
  {
   "cell_type": "code",
   "execution_count": 344,
   "id": "f7d72041",
   "metadata": {},
   "outputs": [
    {
     "data": {
      "image/png": "[encoded data removed]",
      "text/plain": [
       "<Figure size 720x360 with 2 Axes>"
      ]
     },
     "metadata": {
      "needs_background": "light"
     },
     "output_type": "display_data"
    }
   ],
   "source": [
    "a, b =[plt.cm.Blues, plt.cm.Reds ] #Création de couleurs\n",
    "\n",
    "f,ax=plt.subplots(1,2,figsize=(10,5))\n",
    "df0['Churn Label'].value_counts().plot.pie(explode=[0,0.1],autopct='%1.1f%%',ax=ax[0],shadow=True, colors=[a(0.6), b(0.6)])\n",
    "ax[0].set_title('Retained VS Churned')\n",
    "ax[0].set_ylabel('')\n",
    "\n",
    "sns.countplot('Churn Label',data=df0,ax=ax[1], palette=['#FF3A1C',\"#4ba3fa\"])\n",
    "ax[1].set_title('Retained VS Churned') \n",
    "plt.show()"
   ]
  },
  {
   "cell_type": "markdown",
   "id": "7e9662fe",
   "metadata": {},
   "source": [
    "En divisant les individus de notre base de données entre \"*les abonnés*\" et \"*les désabonnés*\", on observe que **73.5%** (un peu plus de **5000** personnes) sont toujours abonnés, contre **26.5%** (moins de **2000** personnes) qui ne sont plus clients de la société en question."
   ]
  },
  {
   "cell_type": "code",
   "execution_count": 11,
   "id": "c9ffc764",
   "metadata": {},
   "outputs": [
    {
     "data": {
      "text/plain": [
       "count    7043.000000\n",
       "mean       32.371149\n",
       "std        24.559481\n",
       "min         0.000000\n",
       "25%         9.000000\n",
       "50%        29.000000\n",
       "75%        55.000000\n",
       "max        72.000000\n",
       "Name: Tenure Months, dtype: float64"
      ]
     },
     "execution_count": 11,
     "metadata": {},
     "output_type": "execute_result"
    }
   ],
   "source": [
    "df0['Tenure Months'].describe() #Statistiques descriptives de la variable \"durée d'ancienneté du client\""
   ]
  },
  {
   "cell_type": "code",
   "execution_count": 12,
   "id": "914ab871",
   "metadata": {},
   "outputs": [
    {
     "data": {
      "text/plain": [
       "<AxesSubplot:xlabel='Tenure Months'>"
      ]
     },
     "execution_count": 12,
     "metadata": {},
     "output_type": "execute_result"
    },
    {
     "data": {
      "image/png": "[encoded data removed]",
      "text/plain": [
       "<Figure size 432x288 with 1 Axes>"
      ]
     },
     "metadata": {
      "needs_background": "light"
     },
     "output_type": "display_data"
    }
   ],
   "source": [
    "sns.boxplot(df0['Tenure Months']) #Box plot de la variable \"durée d'ancienneté du client\""
   ]
  },
  {
   "cell_type": "code",
   "execution_count": 345,
   "id": "a878a170",
   "metadata": {},
   "outputs": [
    {
     "data": {
      "text/plain": [
       "Text(0.5, 1.0, 'Number of Customers by their tenure')"
      ]
     },
     "execution_count": 345,
     "metadata": {},
     "output_type": "execute_result"
    },
    {
     "data": {
      "image/png": "[encoded data removed]",
      "text/plain": [
       "<Figure size 432x288 with 1 Axes>"
      ]
     },
     "metadata": {
      "needs_background": "light"
     },
     "output_type": "display_data"
    }
   ],
   "source": [
    "#Distribution de la variable Tenure Months\n",
    "ax = sns.distplot(df0['Tenure Months'], hist=True, kde=False, \n",
    "             bins=int(180/5), \n",
    "             hist_kws={'edgecolor':'black'}\n",
    "             )\n",
    "ax.set_ylabel('Number of Customers')\n",
    "ax.set_xlabel('Tenure Months')\n",
    "ax.set_title('Number of Customers by their tenure')"
   ]
  },
  {
   "cell_type": "markdown",
   "id": "78fc5515",
   "metadata": {},
   "source": [
    "On observe que notre société de télécommunication possède à peu près **625** nouveaux clients (avec une durée d'ancienneté de *moins de 2 mois*) et environ **650** clients fidèles ( avec une durée d'ancienneté de *plus de 70 mois*)."
   ]
  },
  {
   "cell_type": "code",
   "execution_count": 346,
   "id": "72a22786",
   "metadata": {},
   "outputs": [
    {
     "data": {
      "text/plain": [
       "Text(0.5, 1.0, 'Number of Customers by Contract Type')"
      ]
     },
     "execution_count": 346,
     "metadata": {},
     "output_type": "execute_result"
    },
    {
     "data": {
      "image/png": "[encoded data removed]",
      "text/plain": [
       "<Figure size 432x288 with 1 Axes>"
      ]
     },
     "metadata": {
      "needs_background": "light"
     },
     "output_type": "display_data"
    }
   ],
   "source": [
    "#Distribution des clients en fonction de la nature de leur contrat\n",
    "\n",
    "ax = df0['Contract'].value_counts().plot(kind = 'bar',rot = 10, width = 0.1)\n",
    "ax.set_ylabel('Number of Customers')\n",
    "ax.set_title('Number of Customers by Contract Type')"
   ]
  },
  {
   "cell_type": "markdown",
   "id": "9d476e8c",
   "metadata": {},
   "source": [
    "Ce graphique nous affiche la répartition des clients en fonction du type de leur contrat. On observe que le contrat *mensuel* est le plus demandé par les clients, suivi du contrat *bisannuel*."
   ]
  },
  {
   "cell_type": "code",
   "execution_count": 78,
   "id": "bfbd82e7",
   "metadata": {},
   "outputs": [
    {
     "data": {
      "image/png": "[encoded data removed]",
      "text/plain": [
       "<Figure size 432x288 with 1 Axes>"
      ]
     },
     "metadata": {
      "needs_background": "light"
     },
     "output_type": "display_data"
    }
   ],
   "source": [
    "ax=sns.countplot(x='Contract', hue = 'Churn Label',data = df0)"
   ]
  },
  {
   "cell_type": "markdown",
   "id": "7b67bf21",
   "metadata": {},
   "source": [
    "On observe aisement que le *taux de désabonnement* est *très élevé* chez les clients ayant un *contrat mensuel*, suivi de ceux qui ont un *contrat annuel*. On peux donc dire, à priori, que plus la durée du contrat est petite, plus la probabilité de désabonnement est élevée."
   ]
  },
  {
   "cell_type": "code",
   "execution_count": 13,
   "id": "a18c4102",
   "metadata": {},
   "outputs": [
    {
     "data": {
      "text/plain": [
       "Text(0.5, 1.0, 'Two Year Contract')"
      ]
     },
     "execution_count": 13,
     "metadata": {},
     "output_type": "execute_result"
    },
    {
     "data": {
      "image/png": "[encoded data removed]",
      "text/plain": [
       "<Figure size 1080x432 with 3 Axes>"
      ]
     },
     "metadata": {
      "needs_background": "light"
     },
     "output_type": "display_data"
    }
   ],
   "source": [
    "fig, (ax1,ax2,ax3) = plt.subplots(nrows=1, ncols=3, sharey = True, figsize = (15,6))\n",
    "\n",
    "ax = sns.distplot(df0[df0['Contract']=='Month-to-month']['Tenure Months'],\n",
    "                   hist=True, kde=False,\n",
    "                   bins=int(180/5), color = 'turquoise',\n",
    "                   hist_kws={'edgecolor':'black'},\n",
    "                   kde_kws={'linewidth': 4},\n",
    "                 ax=ax1)\n",
    "ax.set_ylabel('Number of Customers')\n",
    "ax.set_xlabel('Tenure Months')\n",
    "ax.set_title('Month to Month Contract')\n",
    "\n",
    "\n",
    "\n",
    "ax = sns.distplot(df0[df0['Contract']=='One year']['Tenure Months'],\n",
    "                   hist=True, kde=False,\n",
    "                   bins=int(180/5), color = 'steelblue',\n",
    "                   hist_kws={'edgecolor':'black'},\n",
    "                   kde_kws={'linewidth': 4},\n",
    "                 ax=ax2)\n",
    "ax.set_xlabel('Tenure Months',size = 14)\n",
    "ax.set_title('One Year Contract',size = 14)\n",
    "\n",
    "ax = sns.distplot(df0[df0['Contract']=='Two year']['Tenure Months'],\n",
    "                   hist=True, kde=False,\n",
    "                   bins=int(180/5), color = 'darkblue',\n",
    "                   hist_kws={'edgecolor':'black'},\n",
    "                   kde_kws={'linewidth': 4},\n",
    "                 ax=ax3)\n",
    "\n",
    "ax.set_xlabel('Tenure Months')\n",
    "ax.set_title('Two Year Contract')"
   ]
  },
  {
   "cell_type": "markdown",
   "id": "bb2a56cf",
   "metadata": {},
   "source": [
    "Pour des soucis de détails concernant les variables \"durée d'ancienneté\" et \"Type du contrat\", l'on a croisé ces 2 dernières.\n",
    "Le résultat stipule que presque tous les nouveaux clients sont engagés avec un contrat mensuel tandis que les clients fidèles priviligient plutôt le contrat de 2 ans, en général."
   ]
  },
  {
   "cell_type": "code",
   "execution_count": 14,
   "id": "c6c77f6e",
   "metadata": {},
   "outputs": [
    {
     "data": {
      "image/png": "[encoded data removed]",
      "text/plain": [
       "<Figure size 720x360 with 1 Axes>"
      ]
     },
     "metadata": {
      "needs_background": "light"
     },
     "output_type": "display_data"
    }
   ],
   "source": [
    "plt.figure(figsize=(10,5))\n",
    "plt.title('Tenure (Months) distribution')\n",
    "sns.distplot(df0[df0['Churn Label'] == 'Yes']['Tenure Months'], label='Churn',color=\"firebrick\")\n",
    "sns.distplot(df0[df0['Churn Label'] == 'No']['Tenure Months'], label='Retain',color=\"royalblue\")\n",
    "plt.legend(loc= 'upper right')\n",
    "plt.show()"
   ]
  },
  {
   "cell_type": "markdown",
   "id": "7da60eec",
   "metadata": {},
   "source": [
    "D'après la visualisation ci-dessus, nous pouvons voir que plus la durée de souscription augmente, plus la probabilité de résiliation diminue."
   ]
  },
  {
   "cell_type": "code",
   "execution_count": 347,
   "id": "c9485b39",
   "metadata": {},
   "outputs": [
    {
     "data": {
      "image/png": "[encoded data removed]",
      "text/plain": [
       "<Figure size 1152x360 with 2 Axes>"
      ]
     },
     "metadata": {
      "needs_background": "light"
     },
     "output_type": "display_data"
    }
   ],
   "source": [
    "plt.figure(figsize=(16,5))\n",
    "plt.subplot(1,2,1)\n",
    "plt.title('Tenure Months distribution for churning customers')\n",
    "sns.distplot(df0[df0['Churn Label'] == 'Yes']['Tenure Months'], label='Churn', color=\"firebrick\")\n",
    "plt.subplot(1,2,2)\n",
    "plt.title('Tenure Months distribution for churning customers Split by Gender')\n",
    "sns.distplot(df0[(df0['Churn Label'] == 'Yes') & (df0['Gender'] == 'Male')]['Tenure Months'], label='Male', color=\"royalblue\")\n",
    "sns.distplot(df0[(df0['Churn Label'] == 'Yes') & (df0['Gender'] == 'Female')]['Tenure Months'], label='Female', color=\"yellow\")\n",
    "plt.legend()\n",
    "plt.show()"
   ]
  },
  {
   "cell_type": "markdown",
   "id": "ee62a6a7",
   "metadata": {},
   "source": [
    "Le graphique d'à droite nous présente la distribution des désabonnés en fonction du genre.\n",
    "\n",
    "<br/>Ainsi on observe qu'il y'a plus de femmes que d'hommes parmi les clients qui se sont désabonnés après *moins de 15 mois* d'abonnement. Mais aussi il y'a plus d'hommes que de femmes parmi les clients qui se sont désabonnés après *plus de 50 mois* d'abonnement."
   ]
  },
  {
   "cell_type": "code",
   "execution_count": 18,
   "id": "9dd548d1",
   "metadata": {},
   "outputs": [
    {
     "data": {
      "image/png": "[encoded data removed]",
      "text/plain": [
       "<Figure size 1080x864 with 9 Axes>"
      ]
     },
     "metadata": {
      "needs_background": "light"
     },
     "output_type": "display_data"
    }
   ],
   "source": [
    "services = ['Phone Service','Multiple Lines','Internet Service','Online Security',\n",
    "           'Online Backup','Device Protection','Tech Support','Streaming TV','Streaming Movies']\n",
    "\n",
    "\n",
    "a, b =[plt.cm.Blues, plt.cm.Reds ] # Création de couleurs\n",
    "fig, axes = plt.subplots(nrows = 3,ncols = 3,figsize = (15,12))\n",
    "for i, item in enumerate(services):\n",
    "    if i < 3:\n",
    "        ax = df0[item].value_counts().plot(kind = 'bar',ax=axes[i,0],rot = 0, color=[b(0.6), a(0.6)])\n",
    "        \n",
    "    elif i >=3 and i < 6:\n",
    "        ax = df0[item].value_counts().plot(kind = 'bar',ax=axes[i-3,1],rot = 0, color=[b(0.6), a(0.6)])\n",
    "        \n",
    "    elif i < 9:\n",
    "        ax = df0[item].value_counts().plot(kind = 'bar',ax=axes[i-6,2],rot = 0, color=[b(0.6), a(0.6)])\n",
    "    ax.set_title(item)"
   ]
  },
  {
   "cell_type": "markdown",
   "id": "cf978e70",
   "metadata": {},
   "source": [
    "En divisant les individus de notre base de données entre \"les abonnés\" et \"les désabonnés\", l'on observe que 73.5% (un peu plus de 5000 personnes) sont toujours abonnés, contre 26.5% (moins de 2000 personnes) qui ne sont plus clients de la société en question. "
   ]
  },
  {
   "cell_type": "code",
   "execution_count": 20,
   "id": "9650fd5f",
   "metadata": {},
   "outputs": [
    {
     "data": {
      "image/png": "[encoded data removed]",
      "text/plain": [
       "<Figure size 432x288 with 1 Axes>"
      ]
     },
     "metadata": {
      "needs_background": "light"
     },
     "output_type": "display_data"
    }
   ],
   "source": [
    "ax = (df0['Gender'].value_counts()*100.0 /len(df0)).plot(kind='bar',stacked = True,rot = 0,color=[a(0.6), b(0.6)])\n",
    "                                                                      \n",
    "ax.yaxis.set_major_formatter(mtick.PercentFormatter())\n",
    "ax.set_ylabel('% Customers')\n",
    "ax.set_xlabel('Gender')\n",
    "ax.set_ylabel('% Customers')\n",
    "ax.set_title('Gender Distribution')\n",
    "\n",
    "# create a list to collect the plt.patches data\n",
    "totals = []\n",
    "\n",
    "# find the values and append to list\n",
    "for i in ax.patches:\n",
    "    totals.append(i.get_width())\n",
    "\n",
    "# set individual bar lables using above list\n",
    "total = sum(totals)\n",
    "for i in ax.patches:\n",
    "    # get_width pulls left or right; get_y pushes up or down\n",
    "    ax.text(i.get_x()+.15, i.get_height()-3.5, \\\n",
    "            str(round((i.get_height()/total), 1))+'%',\n",
    "            fontsize=12,\n",
    "            color='white',\n",
    "           weight = 'bold')"
   ]
  },
  {
   "cell_type": "code",
   "execution_count": 21,
   "id": "79e384d3",
   "metadata": {},
   "outputs": [
    {
     "data": {
      "text/plain": [
       "<AxesSubplot:xlabel='Gender', ylabel='count'>"
      ]
     },
     "execution_count": 21,
     "metadata": {},
     "output_type": "execute_result"
    },
    {
     "data": {
      "image/png": "[encoded data removed]",
      "text/plain": [
       "<Figure size 432x288 with 1 Axes>"
      ]
     },
     "metadata": {
      "needs_background": "light"
     },
     "output_type": "display_data"
    }
   ],
   "source": [
    "sns.countplot(x='Gender', hue = 'Churn Label',data = df0,palette=['#FF3A1C',\"#4ba3fa\"] )"
   ]
  },
  {
   "cell_type": "code",
   "execution_count": 22,
   "id": "04bde8f4",
   "metadata": {},
   "outputs": [
    {
     "data": {
      "text/html": [
       "<div>\n",
       "<style scoped>\n",
       "    .dataframe tbody tr th:only-of-type {\n",
       "        vertical-align: middle;\n",
       "    }\n",
       "\n",
       "    .dataframe tbody tr th {\n",
       "        vertical-align: top;\n",
       "    }\n",
       "\n",
       "    .dataframe thead th {\n",
       "        text-align: right;\n",
       "    }\n",
       "</style>\n",
       "<table border=\"1\" class=\"dataframe\">\n",
       "  <thead>\n",
       "    <tr style=\"text-align: right;\">\n",
       "      <th></th>\n",
       "      <th>Churn Label</th>\n",
       "      <th>Gender</th>\n",
       "      <th>Ratio</th>\n",
       "    </tr>\n",
       "  </thead>\n",
       "  <tbody>\n",
       "    <tr>\n",
       "      <th>0</th>\n",
       "      <td>No</td>\n",
       "      <td>Male</td>\n",
       "      <td>0.507344</td>\n",
       "    </tr>\n",
       "    <tr>\n",
       "      <th>1</th>\n",
       "      <td>No</td>\n",
       "      <td>Female</td>\n",
       "      <td>0.492656</td>\n",
       "    </tr>\n",
       "    <tr>\n",
       "      <th>2</th>\n",
       "      <td>Yes</td>\n",
       "      <td>Female</td>\n",
       "      <td>0.502408</td>\n",
       "    </tr>\n",
       "    <tr>\n",
       "      <th>3</th>\n",
       "      <td>Yes</td>\n",
       "      <td>Male</td>\n",
       "      <td>0.497592</td>\n",
       "    </tr>\n",
       "  </tbody>\n",
       "</table>\n",
       "</div>"
      ],
      "text/plain": [
       "  Churn Label  Gender     Ratio\n",
       "0          No    Male  0.507344\n",
       "1          No  Female  0.492656\n",
       "2         Yes  Female  0.502408\n",
       "3         Yes    Male  0.497592"
      ]
     },
     "execution_count": 22,
     "metadata": {},
     "output_type": "execute_result"
    }
   ],
   "source": [
    "df0.groupby('Churn Label')['Gender'].value_counts(normalize=True).to_frame().rename(columns={'Gender': 'Ratio'}).reset_index().sort_values('Churn Label')"
   ]
  },
  {
   "cell_type": "markdown",
   "id": "a9b92262",
   "metadata": {},
   "source": [
    "Les déabonnés sont constitués de 50,24% de femmes et de 49,75% d'hommes. Donc, à priori, on peut dire qu'il y a absence d'inégalité de genre quant au désabonnement des clients.\n"
   ]
  },
  {
   "cell_type": "code",
   "execution_count": 23,
   "id": "1a47f090",
   "metadata": {},
   "outputs": [
    {
     "data": {
      "text/plain": [
       "Text(0.5, 1.0, '% of Senior Citizens')"
      ]
     },
     "execution_count": 23,
     "metadata": {},
     "output_type": "execute_result"
    },
    {
     "data": {
      "image/png": "[encoded data removed]",
      "text/plain": [
       "<Figure size 360x360 with 1 Axes>"
      ]
     },
     "metadata": {},
     "output_type": "display_data"
    }
   ],
   "source": [
    "ax = (df0['Senior Citizen'].value_counts()*100.0 /len(df0))\\\n",
    ".plot.pie(autopct='%.1f%%', labels = ['No', 'Yes'],figsize =(5,5), fontsize = 12, colors=[a(0.6), b(0.6)])                                                                           \n",
    "ax.yaxis.set_major_formatter(mtick.PercentFormatter())\n",
    "ax.set_ylabel('Senior Citizens',fontsize = 12)\n",
    "ax.set_title('% of Senior Citizens', fontsize = 12)"
   ]
  },
  {
   "cell_type": "markdown",
   "id": "31e29827",
   "metadata": {},
   "source": [
    "Parmi les clients de plus de 65 ans, seul 16.2% d'entre eux se sont désabonnés."
   ]
  },
  {
   "cell_type": "code",
   "execution_count": 24,
   "id": "11679161",
   "metadata": {},
   "outputs": [
    {
     "data": {
      "text/plain": [
       "<seaborn.axisgrid.FacetGrid at 0x27505e1b310>"
      ]
     },
     "execution_count": 24,
     "metadata": {},
     "output_type": "execute_result"
    },
    {
     "data": {
      "image/png": "[encoded data removed]",
      "text/plain": [
       "<Figure size 788x360 with 2 Axes>"
      ]
     },
     "metadata": {
      "needs_background": "light"
     },
     "output_type": "display_data"
    }
   ],
   "source": [
    "sns.catplot(x='Gender', hue='Churn Label', col='Senior Citizen', kind='count', data=df0)"
   ]
  },
  {
   "cell_type": "code",
   "execution_count": 25,
   "id": "e4c83361",
   "metadata": {},
   "outputs": [
    {
     "data": {
      "text/html": [
       "<div>\n",
       "<style scoped>\n",
       "    .dataframe tbody tr th:only-of-type {\n",
       "        vertical-align: middle;\n",
       "    }\n",
       "\n",
       "    .dataframe tbody tr th {\n",
       "        vertical-align: top;\n",
       "    }\n",
       "\n",
       "    .dataframe thead th {\n",
       "        text-align: right;\n",
       "    }\n",
       "</style>\n",
       "<table border=\"1\" class=\"dataframe\">\n",
       "  <thead>\n",
       "    <tr style=\"text-align: right;\">\n",
       "      <th></th>\n",
       "      <th>Senior Citizen</th>\n",
       "      <th>Gender</th>\n",
       "      <th>Churn Label</th>\n",
       "      <th>Ratio</th>\n",
       "    </tr>\n",
       "  </thead>\n",
       "  <tbody>\n",
       "    <tr>\n",
       "      <th>0</th>\n",
       "      <td>No</td>\n",
       "      <td>Female</td>\n",
       "      <td>No</td>\n",
       "      <td>0.760616</td>\n",
       "    </tr>\n",
       "    <tr>\n",
       "      <th>1</th>\n",
       "      <td>No</td>\n",
       "      <td>Female</td>\n",
       "      <td>Yes</td>\n",
       "      <td>0.239384</td>\n",
       "    </tr>\n",
       "    <tr>\n",
       "      <th>2</th>\n",
       "      <td>No</td>\n",
       "      <td>Male</td>\n",
       "      <td>No</td>\n",
       "      <td>0.767192</td>\n",
       "    </tr>\n",
       "    <tr>\n",
       "      <th>3</th>\n",
       "      <td>No</td>\n",
       "      <td>Male</td>\n",
       "      <td>Yes</td>\n",
       "      <td>0.232808</td>\n",
       "    </tr>\n",
       "    <tr>\n",
       "      <th>4</th>\n",
       "      <td>Yes</td>\n",
       "      <td>Female</td>\n",
       "      <td>No</td>\n",
       "      <td>0.577465</td>\n",
       "    </tr>\n",
       "    <tr>\n",
       "      <th>5</th>\n",
       "      <td>Yes</td>\n",
       "      <td>Female</td>\n",
       "      <td>Yes</td>\n",
       "      <td>0.422535</td>\n",
       "    </tr>\n",
       "    <tr>\n",
       "      <th>6</th>\n",
       "      <td>Yes</td>\n",
       "      <td>Male</td>\n",
       "      <td>No</td>\n",
       "      <td>0.588850</td>\n",
       "    </tr>\n",
       "    <tr>\n",
       "      <th>7</th>\n",
       "      <td>Yes</td>\n",
       "      <td>Male</td>\n",
       "      <td>Yes</td>\n",
       "      <td>0.411150</td>\n",
       "    </tr>\n",
       "  </tbody>\n",
       "</table>\n",
       "</div>"
      ],
      "text/plain": [
       "  Senior Citizen  Gender Churn Label     Ratio\n",
       "0             No  Female          No  0.760616\n",
       "1             No  Female         Yes  0.239384\n",
       "2             No    Male          No  0.767192\n",
       "3             No    Male         Yes  0.232808\n",
       "4            Yes  Female          No  0.577465\n",
       "5            Yes  Female         Yes  0.422535\n",
       "6            Yes    Male          No  0.588850\n",
       "7            Yes    Male         Yes  0.411150"
      ]
     },
     "execution_count": 25,
     "metadata": {},
     "output_type": "execute_result"
    }
   ],
   "source": [
    "by_gender_senior = df0.groupby(['Senior Citizen', 'Gender'])['Churn Label'].value_counts(normalize=True).to_frame().rename(columns={'Churn Label': 'Ratio'}).reset_index().sort_values('Senior Citizen')\n",
    "by_gender_senior"
   ]
  },
  {
   "cell_type": "markdown",
   "id": "feec5442",
   "metadata": {},
   "source": [
    "D'après la visualisation ci-dessus, nous pouvons voir que le taux de résiliation des seniors, hommes et femmes, est presque le même. De même pour le taux de résiliation pour les personnes non âgées."
   ]
  },
  {
   "cell_type": "code",
   "execution_count": 26,
   "id": "431c8be6",
   "metadata": {},
   "outputs": [
    {
     "data": {
      "text/html": [
       "<div>\n",
       "<style scoped>\n",
       "    .dataframe tbody tr th:only-of-type {\n",
       "        vertical-align: middle;\n",
       "    }\n",
       "\n",
       "    .dataframe tbody tr th {\n",
       "        vertical-align: top;\n",
       "    }\n",
       "\n",
       "    .dataframe thead th {\n",
       "        text-align: right;\n",
       "    }\n",
       "</style>\n",
       "<table border=\"1\" class=\"dataframe\">\n",
       "  <thead>\n",
       "    <tr style=\"text-align: right;\">\n",
       "      <th></th>\n",
       "      <th>Partner</th>\n",
       "      <th>Gender</th>\n",
       "      <th>Churn Label</th>\n",
       "      <th>Ratio</th>\n",
       "    </tr>\n",
       "  </thead>\n",
       "  <tbody>\n",
       "    <tr>\n",
       "      <th>0</th>\n",
       "      <td>No</td>\n",
       "      <td>Female</td>\n",
       "      <td>No</td>\n",
       "      <td>0.655556</td>\n",
       "    </tr>\n",
       "    <tr>\n",
       "      <th>1</th>\n",
       "      <td>No</td>\n",
       "      <td>Female</td>\n",
       "      <td>Yes</td>\n",
       "      <td>0.344444</td>\n",
       "    </tr>\n",
       "    <tr>\n",
       "      <th>2</th>\n",
       "      <td>No</td>\n",
       "      <td>Male</td>\n",
       "      <td>No</td>\n",
       "      <td>0.684954</td>\n",
       "    </tr>\n",
       "    <tr>\n",
       "      <th>3</th>\n",
       "      <td>No</td>\n",
       "      <td>Male</td>\n",
       "      <td>Yes</td>\n",
       "      <td>0.315046</td>\n",
       "    </tr>\n",
       "    <tr>\n",
       "      <th>4</th>\n",
       "      <td>Yes</td>\n",
       "      <td>Female</td>\n",
       "      <td>No</td>\n",
       "      <td>0.811019</td>\n",
       "    </tr>\n",
       "    <tr>\n",
       "      <th>5</th>\n",
       "      <td>Yes</td>\n",
       "      <td>Female</td>\n",
       "      <td>Yes</td>\n",
       "      <td>0.188981</td>\n",
       "    </tr>\n",
       "    <tr>\n",
       "      <th>6</th>\n",
       "      <td>Yes</td>\n",
       "      <td>Male</td>\n",
       "      <td>No</td>\n",
       "      <td>0.795799</td>\n",
       "    </tr>\n",
       "    <tr>\n",
       "      <th>7</th>\n",
       "      <td>Yes</td>\n",
       "      <td>Male</td>\n",
       "      <td>Yes</td>\n",
       "      <td>0.204201</td>\n",
       "    </tr>\n",
       "  </tbody>\n",
       "</table>\n",
       "</div>"
      ],
      "text/plain": [
       "  Partner  Gender Churn Label     Ratio\n",
       "0      No  Female          No  0.655556\n",
       "1      No  Female         Yes  0.344444\n",
       "2      No    Male          No  0.684954\n",
       "3      No    Male         Yes  0.315046\n",
       "4     Yes  Female          No  0.811019\n",
       "5     Yes  Female         Yes  0.188981\n",
       "6     Yes    Male          No  0.795799\n",
       "7     Yes    Male         Yes  0.204201"
      ]
     },
     "execution_count": 26,
     "metadata": {},
     "output_type": "execute_result"
    }
   ],
   "source": [
    "by_gender_partner = df0.groupby(['Partner', 'Gender'])['Churn Label'].value_counts(normalize=True).to_frame().rename(columns={'Churn Label': 'Ratio'}).reset_index().sort_values('Partner')\n",
    "by_gender_partner"
   ]
  },
  {
   "cell_type": "markdown",
   "id": "67248c44",
   "metadata": {},
   "source": [
    "D'après la visualisation ci-dessus, les femmes et les hommes qui n'ont pas de partenaire sont plus susceptibles de faire une résiliation."
   ]
  },
  {
   "cell_type": "code",
   "execution_count": 27,
   "id": "137a4b0a",
   "metadata": {},
   "outputs": [
    {
     "data": {
      "image/png": "[encoded data removed]",
      "text/plain": [
       "<Figure size 720x360 with 1 Axes>"
      ]
     },
     "metadata": {
      "needs_background": "light"
     },
     "output_type": "display_data"
    }
   ],
   "source": [
    "plt.figure(figsize=(10,5))\n",
    "plt.title('Monthly Charge distribution')\n",
    "sns.distplot(df0[df0['Churn Label'] == 'Yes']['Monthly Charges'], label='Churn',color=\"firebrick\")\n",
    "sns.distplot(df0[df0['Churn Label'] == 'No']['Monthly Charges'], label='Retain',color=\"royalblue\")\n",
    "plt.legend(loc= 'upper right')\n",
    "plt.show()"
   ]
  },
  {
   "cell_type": "markdown",
   "id": "0a5d45fe",
   "metadata": {},
   "source": [
    "Il y a un pic de rétention des clients dont le coût mensuel est d'environ 25 dollar.\n",
    "Les clients qui effectuent des transactions par mois d'un montant moyen supérieur à 65 dollar seront plus susceptibles de se désabonner que ceux dont la transaction mensuelle est inférieure à ce montant."
   ]
  },
  {
   "cell_type": "markdown",
   "id": "360b76d6",
   "metadata": {},
   "source": [
    "D'après la visualisation ci-dessus, on peut voir que la majorité des clients dont les charges mensuelles sont autour de 25$ sont des clients dont la durée 'Tenure Months' est inférieure à 50 mois."
   ]
  },
  {
   "cell_type": "code",
   "execution_count": 348,
   "id": "c7b5e95b",
   "metadata": {},
   "outputs": [
    {
     "data": {
      "text/plain": [
       "Text(0.5, 1.0, 'Count By churn Reason')"
      ]
     },
     "execution_count": 348,
     "metadata": {},
     "output_type": "execute_result"
    },
    {
     "data": {
      "image/png": "[encoded data removed]",
      "text/plain": [
       "<Figure size 1080x432 with 1 Axes>"
      ]
     },
     "metadata": {
      "needs_background": "light"
     },
     "output_type": "display_data"
    }
   ],
   "source": [
    "# Affichage des raisons principales de churn\n",
    "color = [ \"Lightblue\",\"cornflowerblue\",\"royalblue\"]\n",
    "sns.set_palette(color)\n",
    "plt.figure(figsize=(15,6))\n",
    "df0['Churn Reason'].value_counts()[:10].plot(kind='barh',color=sns.color_palette())\n",
    "plt.title('Count By churn Reason')"
   ]
  },
  {
   "cell_type": "markdown",
   "id": "88be7fd8",
   "metadata": {},
   "source": [
    "## I.2 Etude des corrélations"
   ]
  },
  {
   "cell_type": "markdown",
   "id": "2a593ad0",
   "metadata": {},
   "source": [
    "### I.2.1 Corrélations quanti vs quanti"
   ]
  },
  {
   "cell_type": "code",
   "execution_count": 349,
   "id": "1ae329d7",
   "metadata": {},
   "outputs": [
    {
     "data": {
      "image/png": "[encoded data removed]",
      "text/plain": [
       "<Figure size 720x432 with 2 Axes>"
      ]
     },
     "metadata": {
      "needs_background": "light"
     },
     "output_type": "display_data"
    }
   ],
   "source": [
    "df0['Total Charges'] = pd.to_numeric(df0['Total Charges'], errors='coerce')\n",
    "df0['Total Charges'].fillna(df0['Total Charges'].median(), inplace=True)\n",
    "\n",
    "variables_num = df0[['Tenure Months', 'Monthly Charges', 'Total Charges', 'CLTV']]\n",
    "corr_df = variables_num.corr(method='pearson')\n",
    "plt.figure(figsize=(10, 6))\n",
    "sns.heatmap(corr_df, annot=True)\n",
    "plt.show()"
   ]
  },
  {
   "cell_type": "markdown",
   "id": "60c2648b",
   "metadata": {},
   "source": [
    "On voit qu'il n'y a aucune coorélation entre les variables quantitatives à part celle qui existe entre *Tenure Months* et *Total Charges*.\n",
    "<br/> Ainsi on décide de supprimer la variable *Tenure Months*."
   ]
  },
  {
   "cell_type": "code",
   "execution_count": 350,
   "id": "e7abcce1",
   "metadata": {},
   "outputs": [],
   "source": [
    "df0.drop (\"Tenure Months\", inplace=True, axis=1)"
   ]
  },
  {
   "cell_type": "markdown",
   "id": "a2202fa4",
   "metadata": {},
   "source": [
    "### I.2.2 Corrélation quali vs quali (Test de Khi2)"
   ]
  },
  {
   "cell_type": "markdown",
   "id": "d71b61a8",
   "metadata": {},
   "source": [
    "Le test utilisé pour détecter une éventuelle dépendance entre 2 variables catégorielles est celui du **Khi-deux d'indépendance**. Ici on l'utilise pour voir les différentes variables catégorielles qui ont une relation de dépendance avec notre variable cible (*churn value*)."
   ]
  },
  {
   "cell_type": "code",
   "execution_count": 351,
   "id": "84bdfbf7",
   "metadata": {},
   "outputs": [
    {
     "name": "stdout",
     "output_type": "stream",
     "text": [
      "ch2test with alpha 0.05\n"
     ]
    },
    {
     "data": {
      "text/html": [
       "<div>\n",
       "<style scoped>\n",
       "    .dataframe tbody tr th:only-of-type {\n",
       "        vertical-align: middle;\n",
       "    }\n",
       "\n",
       "    .dataframe tbody tr th {\n",
       "        vertical-align: top;\n",
       "    }\n",
       "\n",
       "    .dataframe thead th {\n",
       "        text-align: right;\n",
       "    }\n",
       "</style>\n",
       "<table border=\"1\" class=\"dataframe\">\n",
       "  <thead>\n",
       "    <tr style=\"text-align: right;\">\n",
       "      <th></th>\n",
       "      <th>variable1</th>\n",
       "      <th>variable2</th>\n",
       "      <th>chi2-stat</th>\n",
       "      <th>p-value</th>\n",
       "      <th>result</th>\n",
       "      <th>recommendation</th>\n",
       "    </tr>\n",
       "  </thead>\n",
       "  <tbody>\n",
       "    <tr>\n",
       "      <th>0</th>\n",
       "      <td>Churn Value</td>\n",
       "      <td>CustomerID</td>\n",
       "      <td>7043.000000</td>\n",
       "      <td>4.943977e-01</td>\n",
       "      <td>Independent (H0 holds true)</td>\n",
       "      <td>drop</td>\n",
       "    </tr>\n",
       "    <tr>\n",
       "      <th>1</th>\n",
       "      <td>Churn Value</td>\n",
       "      <td>Country</td>\n",
       "      <td>0.000000</td>\n",
       "      <td>1.000000e+00</td>\n",
       "      <td>Independent (H0 holds true)</td>\n",
       "      <td>drop</td>\n",
       "    </tr>\n",
       "    <tr>\n",
       "      <th>2</th>\n",
       "      <td>Churn Value</td>\n",
       "      <td>State</td>\n",
       "      <td>0.000000</td>\n",
       "      <td>1.000000e+00</td>\n",
       "      <td>Independent (H0 holds true)</td>\n",
       "      <td>drop</td>\n",
       "    </tr>\n",
       "    <tr>\n",
       "      <th>3</th>\n",
       "      <td>Churn Value</td>\n",
       "      <td>City</td>\n",
       "      <td>1233.567219</td>\n",
       "      <td>1.497540e-02</td>\n",
       "      <td>Dependent (reject H0)</td>\n",
       "      <td>include</td>\n",
       "    </tr>\n",
       "    <tr>\n",
       "      <th>4</th>\n",
       "      <td>Churn Value</td>\n",
       "      <td>Lat Long</td>\n",
       "      <td>1745.965514</td>\n",
       "      <td>5.117984e-02</td>\n",
       "      <td>Independent (H0 holds true)</td>\n",
       "      <td>drop</td>\n",
       "    </tr>\n",
       "    <tr>\n",
       "      <th>5</th>\n",
       "      <td>Churn Value</td>\n",
       "      <td>Gender</td>\n",
       "      <td>0.484083</td>\n",
       "      <td>4.865787e-01</td>\n",
       "      <td>Independent (H0 holds true)</td>\n",
       "      <td>drop</td>\n",
       "    </tr>\n",
       "    <tr>\n",
       "      <th>6</th>\n",
       "      <td>Churn Value</td>\n",
       "      <td>Senior Citizen</td>\n",
       "      <td>159.426300</td>\n",
       "      <td>1.510067e-36</td>\n",
       "      <td>Dependent (reject H0)</td>\n",
       "      <td>include</td>\n",
       "    </tr>\n",
       "    <tr>\n",
       "      <th>7</th>\n",
       "      <td>Churn Value</td>\n",
       "      <td>Partner</td>\n",
       "      <td>158.733382</td>\n",
       "      <td>2.139911e-36</td>\n",
       "      <td>Dependent (reject H0)</td>\n",
       "      <td>include</td>\n",
       "    </tr>\n",
       "    <tr>\n",
       "      <th>8</th>\n",
       "      <td>Churn Value</td>\n",
       "      <td>Dependents</td>\n",
       "      <td>433.734379</td>\n",
       "      <td>2.500972e-96</td>\n",
       "      <td>Dependent (reject H0)</td>\n",
       "      <td>include</td>\n",
       "    </tr>\n",
       "    <tr>\n",
       "      <th>9</th>\n",
       "      <td>Churn Value</td>\n",
       "      <td>Phone Service</td>\n",
       "      <td>0.915033</td>\n",
       "      <td>3.387825e-01</td>\n",
       "      <td>Independent (H0 holds true)</td>\n",
       "      <td>drop</td>\n",
       "    </tr>\n",
       "    <tr>\n",
       "      <th>10</th>\n",
       "      <td>Churn Value</td>\n",
       "      <td>Multiple Lines</td>\n",
       "      <td>11.330441</td>\n",
       "      <td>3.464383e-03</td>\n",
       "      <td>Dependent (reject H0)</td>\n",
       "      <td>include</td>\n",
       "    </tr>\n",
       "    <tr>\n",
       "      <th>11</th>\n",
       "      <td>Churn Value</td>\n",
       "      <td>Internet Service</td>\n",
       "      <td>732.309590</td>\n",
       "      <td>9.571788e-160</td>\n",
       "      <td>Dependent (reject H0)</td>\n",
       "      <td>include</td>\n",
       "    </tr>\n",
       "    <tr>\n",
       "      <th>12</th>\n",
       "      <td>Churn Value</td>\n",
       "      <td>Online Security</td>\n",
       "      <td>849.998968</td>\n",
       "      <td>2.661150e-185</td>\n",
       "      <td>Dependent (reject H0)</td>\n",
       "      <td>include</td>\n",
       "    </tr>\n",
       "    <tr>\n",
       "      <th>13</th>\n",
       "      <td>Churn Value</td>\n",
       "      <td>Online Backup</td>\n",
       "      <td>601.812790</td>\n",
       "      <td>2.079759e-131</td>\n",
       "      <td>Dependent (reject H0)</td>\n",
       "      <td>include</td>\n",
       "    </tr>\n",
       "    <tr>\n",
       "      <th>14</th>\n",
       "      <td>Churn Value</td>\n",
       "      <td>Device Protection</td>\n",
       "      <td>558.419369</td>\n",
       "      <td>5.505219e-122</td>\n",
       "      <td>Dependent (reject H0)</td>\n",
       "      <td>include</td>\n",
       "    </tr>\n",
       "    <tr>\n",
       "      <th>15</th>\n",
       "      <td>Churn Value</td>\n",
       "      <td>Tech Support</td>\n",
       "      <td>828.197068</td>\n",
       "      <td>1.443084e-180</td>\n",
       "      <td>Dependent (reject H0)</td>\n",
       "      <td>include</td>\n",
       "    </tr>\n",
       "    <tr>\n",
       "      <th>16</th>\n",
       "      <td>Churn Value</td>\n",
       "      <td>Streaming TV</td>\n",
       "      <td>374.203943</td>\n",
       "      <td>5.528994e-82</td>\n",
       "      <td>Dependent (reject H0)</td>\n",
       "      <td>include</td>\n",
       "    </tr>\n",
       "    <tr>\n",
       "      <th>17</th>\n",
       "      <td>Churn Value</td>\n",
       "      <td>Streaming Movies</td>\n",
       "      <td>375.661479</td>\n",
       "      <td>2.667757e-82</td>\n",
       "      <td>Dependent (reject H0)</td>\n",
       "      <td>include</td>\n",
       "    </tr>\n",
       "    <tr>\n",
       "      <th>18</th>\n",
       "      <td>Churn Value</td>\n",
       "      <td>Contract</td>\n",
       "      <td>1184.596572</td>\n",
       "      <td>5.863038e-258</td>\n",
       "      <td>Dependent (reject H0)</td>\n",
       "      <td>include</td>\n",
       "    </tr>\n",
       "    <tr>\n",
       "      <th>19</th>\n",
       "      <td>Churn Value</td>\n",
       "      <td>Paperless Billing</td>\n",
       "      <td>258.277649</td>\n",
       "      <td>4.073355e-58</td>\n",
       "      <td>Dependent (reject H0)</td>\n",
       "      <td>include</td>\n",
       "    </tr>\n",
       "    <tr>\n",
       "      <th>20</th>\n",
       "      <td>Churn Value</td>\n",
       "      <td>Payment Method</td>\n",
       "      <td>648.142327</td>\n",
       "      <td>3.682355e-140</td>\n",
       "      <td>Dependent (reject H0)</td>\n",
       "      <td>include</td>\n",
       "    </tr>\n",
       "    <tr>\n",
       "      <th>21</th>\n",
       "      <td>Churn Value</td>\n",
       "      <td>Churn Label</td>\n",
       "      <td>7037.871379</td>\n",
       "      <td>0.000000e+00</td>\n",
       "      <td>Dependent (reject H0)</td>\n",
       "      <td>include</td>\n",
       "    </tr>\n",
       "    <tr>\n",
       "      <th>22</th>\n",
       "      <td>Churn Value</td>\n",
       "      <td>Churn Reason</td>\n",
       "      <td>0.000000</td>\n",
       "      <td>1.000000e+00</td>\n",
       "      <td>Independent (H0 holds true)</td>\n",
       "      <td>drop</td>\n",
       "    </tr>\n",
       "  </tbody>\n",
       "</table>\n",
       "</div>"
      ],
      "text/plain": [
       "      variable1          variable2    chi2-stat        p-value  \\\n",
       "0   Churn Value         CustomerID  7043.000000   4.943977e-01   \n",
       "1   Churn Value            Country     0.000000   1.000000e+00   \n",
       "2   Churn Value              State     0.000000   1.000000e+00   \n",
       "3   Churn Value               City  1233.567219   1.497540e-02   \n",
       "4   Churn Value           Lat Long  1745.965514   5.117984e-02   \n",
       "5   Churn Value             Gender     0.484083   4.865787e-01   \n",
       "6   Churn Value     Senior Citizen   159.426300   1.510067e-36   \n",
       "7   Churn Value            Partner   158.733382   2.139911e-36   \n",
       "8   Churn Value         Dependents   433.734379   2.500972e-96   \n",
       "9   Churn Value      Phone Service     0.915033   3.387825e-01   \n",
       "10  Churn Value     Multiple Lines    11.330441   3.464383e-03   \n",
       "11  Churn Value   Internet Service   732.309590  9.571788e-160   \n",
       "12  Churn Value    Online Security   849.998968  2.661150e-185   \n",
       "13  Churn Value      Online Backup   601.812790  2.079759e-131   \n",
       "14  Churn Value  Device Protection   558.419369  5.505219e-122   \n",
       "15  Churn Value       Tech Support   828.197068  1.443084e-180   \n",
       "16  Churn Value       Streaming TV   374.203943   5.528994e-82   \n",
       "17  Churn Value   Streaming Movies   375.661479   2.667757e-82   \n",
       "18  Churn Value           Contract  1184.596572  5.863038e-258   \n",
       "19  Churn Value  Paperless Billing   258.277649   4.073355e-58   \n",
       "20  Churn Value     Payment Method   648.142327  3.682355e-140   \n",
       "21  Churn Value        Churn Label  7037.871379   0.000000e+00   \n",
       "22  Churn Value       Churn Reason     0.000000   1.000000e+00   \n",
       "\n",
       "                         result recommendation  \n",
       "0   Independent (H0 holds true)           drop  \n",
       "1   Independent (H0 holds true)           drop  \n",
       "2   Independent (H0 holds true)           drop  \n",
       "3         Dependent (reject H0)        include  \n",
       "4   Independent (H0 holds true)           drop  \n",
       "5   Independent (H0 holds true)           drop  \n",
       "6         Dependent (reject H0)        include  \n",
       "7         Dependent (reject H0)        include  \n",
       "8         Dependent (reject H0)        include  \n",
       "9   Independent (H0 holds true)           drop  \n",
       "10        Dependent (reject H0)        include  \n",
       "11        Dependent (reject H0)        include  \n",
       "12        Dependent (reject H0)        include  \n",
       "13        Dependent (reject H0)        include  \n",
       "14        Dependent (reject H0)        include  \n",
       "15        Dependent (reject H0)        include  \n",
       "16        Dependent (reject H0)        include  \n",
       "17        Dependent (reject H0)        include  \n",
       "18        Dependent (reject H0)        include  \n",
       "19        Dependent (reject H0)        include  \n",
       "20        Dependent (reject H0)        include  \n",
       "21        Dependent (reject H0)        include  \n",
       "22  Independent (H0 holds true)           drop  "
      ]
     },
     "execution_count": 351,
     "metadata": {},
     "output_type": "execute_result"
    }
   ],
   "source": [
    "#Test de chi2\n",
    "df = df0.copy()\n",
    "df['Total Charges'] = pd.to_numeric(df0['Total Charges'], errors='coerce')\n",
    "# Chi squared Independence test between categorical values and Churn. This will help to identify important variables on which Churn depends.\n",
    "# Based on the test, we can recommend to drop/include them in while training\n",
    "def chi2test(X,y,alpha=0.05):\n",
    "    '''\n",
    "        X : dataframe \n",
    "        y : series\n",
    "    '''\n",
    "    target = y.name\n",
    "    print('ch2test with alpha',alpha)\n",
    "    test_df = []\n",
    "    for index,col in X.select_dtypes(include=['object']).columns.to_series().items():\n",
    "        df = pd.concat([y,X[col]],axis=1)\n",
    "        contingency_table = df.value_counts().rename(\"counts\").reset_index().pivot(index=target,columns=col,values='counts').fillna(0)\n",
    "        stat, p, dof, expected = chi2_contingency(contingency_table.values)\n",
    "        test_df.append([target,col,stat,p,'Dependent (reject H0)' if p <= alpha else 'Independent (H0 holds true)','include' if p <= alpha else 'drop'])\n",
    "        \n",
    "    test_df = pd.DataFrame(test_df,columns=[\"variable1\",\"variable2\",\"chi2-stat\",\"p-value\",\"result\",\"recommendation\"])\n",
    "    return test_df\n",
    "\n",
    "chi2test(df.drop('Churn Value',axis=1),df['Churn Value'])"
   ]
  },
  {
   "cell_type": "markdown",
   "id": "3e9d20b2",
   "metadata": {},
   "source": [
    "Les variables qui ont une *p-value* supérieure à **0.05** signifie qu'elles sont *indépendantes* de notre variable cible (*churn value*). \n",
    "<br/>Donc durant la modélisation, on n'utilisera pas cesdites variables."
   ]
  },
  {
   "cell_type": "code",
   "execution_count": 352,
   "id": "4ad19e8d",
   "metadata": {},
   "outputs": [
    {
     "name": "stdout",
     "output_type": "stream",
     "text": [
      "Index(['City', 'Senior Citizen', 'Partner', 'Dependents', 'Phone Service',\n",
      "       'Multiple Lines', 'Internet Service', 'Online Security',\n",
      "       'Online Backup', 'Device Protection', 'Tech Support', 'Streaming TV',\n",
      "       'Streaming Movies', 'Contract', 'Paperless Billing', 'Payment Method',\n",
      "       'Monthly Charges', 'Total Charges', 'Churn Value', 'CLTV'],\n",
      "      dtype='object')\n"
     ]
    }
   ],
   "source": [
    "#Suppression des variables ayant une p-value supérieure à 0.05\n",
    "df = df.drop(['CustomerID', 'Count', 'Gender', 'Country','State','Zip Code','Lat Long', 'Latitude', 'Longitude','Churn Label','Churn Score','Churn Reason'], axis = 1)\n",
    "print(df.columns)"
   ]
  },
  {
   "cell_type": "markdown",
   "id": "df2678cd",
   "metadata": {},
   "source": [
    "### I.2.3 Corrélation quanti vs quali (ANOVA)"
   ]
  },
  {
   "cell_type": "markdown",
   "id": "109c3b0e",
   "metadata": {},
   "source": [
    "Dans la littérature, pour savoir si une variable quantitative joue un role sur l'apparition des modalités d'une autre variable qualitative, on utilise de l'*ANOVA*. Ici donc à l'aide de l'Analyse de la variance on mesure la significativité de l'effet que nos variables quantitatives ont sur la variable cible."
   ]
  },
  {
   "cell_type": "code",
   "execution_count": 353,
   "id": "b5980f52",
   "metadata": {},
   "outputs": [
    {
     "data": {
      "text/html": [
       "<div>\n",
       "<style scoped>\n",
       "    .dataframe tbody tr th:only-of-type {\n",
       "        vertical-align: middle;\n",
       "    }\n",
       "\n",
       "    .dataframe tbody tr th {\n",
       "        vertical-align: top;\n",
       "    }\n",
       "\n",
       "    .dataframe thead th {\n",
       "        text-align: right;\n",
       "    }\n",
       "</style>\n",
       "<table border=\"1\" class=\"dataframe\">\n",
       "  <thead>\n",
       "    <tr style=\"text-align: right;\">\n",
       "      <th></th>\n",
       "      <th>df</th>\n",
       "      <th>sum_sq</th>\n",
       "      <th>mean_sq</th>\n",
       "      <th>F</th>\n",
       "      <th>PR(&gt;F)</th>\n",
       "    </tr>\n",
       "  </thead>\n",
       "  <tbody>\n",
       "    <tr>\n",
       "      <th>MonthlyCharges</th>\n",
       "      <td>1.0</td>\n",
       "      <td>51.332834</td>\n",
       "      <td>51.332834</td>\n",
       "      <td>273.463704</td>\n",
       "      <td>2.706646e-60</td>\n",
       "    </tr>\n",
       "    <tr>\n",
       "      <th>Residual</th>\n",
       "      <td>7041.0</td>\n",
       "      <td>1321.690878</td>\n",
       "      <td>0.187714</td>\n",
       "      <td>NaN</td>\n",
       "      <td>NaN</td>\n",
       "    </tr>\n",
       "  </tbody>\n",
       "</table>\n",
       "</div>"
      ],
      "text/plain": [
       "                    df       sum_sq    mean_sq           F        PR(>F)\n",
       "MonthlyCharges     1.0    51.332834  51.332834  273.463704  2.706646e-60\n",
       "Residual        7041.0  1321.690878   0.187714         NaN           NaN"
      ]
     },
     "execution_count": 353,
     "metadata": {},
     "output_type": "execute_result"
    }
   ],
   "source": [
    "df1 = df.copy()\n",
    "df1['ChurnValue'] = df1['Churn Value']\n",
    "df1['MonthlyCharges'] = df1['Monthly Charges']\n",
    "df1['TotalCharges'] = df1['Total Charges']\n",
    "\n",
    "import statsmodels.api\n",
    "result1 = statsmodels.formula.api.ols('ChurnValue ~ MonthlyCharges',data=df1).fit()\n",
    "result2 = statsmodels.formula.api.ols('ChurnValue ~ TotalCharges',data=df1).fit()\n",
    "result3 = statsmodels.formula.api.ols('ChurnValue ~ CLTV',data=df1).fit()\n",
    "\n",
    "tab1 = statsmodels.api.stats.anova_lm(result1)\n",
    "tab2 = statsmodels.api.stats.anova_lm(result2)\n",
    "tab3 = statsmodels.api.stats.anova_lm(result3)\n",
    "\n",
    "tab1"
   ]
  },
  {
   "cell_type": "code",
   "execution_count": 354,
   "id": "e5cabfb7",
   "metadata": {},
   "outputs": [
    {
     "data": {
      "text/html": [
       "<div>\n",
       "<style scoped>\n",
       "    .dataframe tbody tr th:only-of-type {\n",
       "        vertical-align: middle;\n",
       "    }\n",
       "\n",
       "    .dataframe tbody tr th {\n",
       "        vertical-align: top;\n",
       "    }\n",
       "\n",
       "    .dataframe thead th {\n",
       "        text-align: right;\n",
       "    }\n",
       "</style>\n",
       "<table border=\"1\" class=\"dataframe\">\n",
       "  <thead>\n",
       "    <tr style=\"text-align: right;\">\n",
       "      <th></th>\n",
       "      <th>df</th>\n",
       "      <th>sum_sq</th>\n",
       "      <th>mean_sq</th>\n",
       "      <th>F</th>\n",
       "      <th>PR(&gt;F)</th>\n",
       "    </tr>\n",
       "  </thead>\n",
       "  <tbody>\n",
       "    <tr>\n",
       "      <th>TotalCharges</th>\n",
       "      <td>1.0</td>\n",
       "      <td>54.393241</td>\n",
       "      <td>54.393241</td>\n",
       "      <td>290.439831</td>\n",
       "      <td>7.508609e-64</td>\n",
       "    </tr>\n",
       "    <tr>\n",
       "      <th>Residual</th>\n",
       "      <td>7041.0</td>\n",
       "      <td>1318.630470</td>\n",
       "      <td>0.187279</td>\n",
       "      <td>NaN</td>\n",
       "      <td>NaN</td>\n",
       "    </tr>\n",
       "  </tbody>\n",
       "</table>\n",
       "</div>"
      ],
      "text/plain": [
       "                  df       sum_sq    mean_sq           F        PR(>F)\n",
       "TotalCharges     1.0    54.393241  54.393241  290.439831  7.508609e-64\n",
       "Residual      7041.0  1318.630470   0.187279         NaN           NaN"
      ]
     },
     "execution_count": 354,
     "metadata": {},
     "output_type": "execute_result"
    }
   ],
   "source": [
    "tab2"
   ]
  },
  {
   "cell_type": "code",
   "execution_count": 355,
   "id": "6fd0a611",
   "metadata": {},
   "outputs": [
    {
     "data": {
      "text/html": [
       "<div>\n",
       "<style scoped>\n",
       "    .dataframe tbody tr th:only-of-type {\n",
       "        vertical-align: middle;\n",
       "    }\n",
       "\n",
       "    .dataframe tbody tr th {\n",
       "        vertical-align: top;\n",
       "    }\n",
       "\n",
       "    .dataframe thead th {\n",
       "        text-align: right;\n",
       "    }\n",
       "</style>\n",
       "<table border=\"1\" class=\"dataframe\">\n",
       "  <thead>\n",
       "    <tr style=\"text-align: right;\">\n",
       "      <th></th>\n",
       "      <th>df</th>\n",
       "      <th>sum_sq</th>\n",
       "      <th>mean_sq</th>\n",
       "      <th>F</th>\n",
       "      <th>PR(&gt;F)</th>\n",
       "    </tr>\n",
       "  </thead>\n",
       "  <tbody>\n",
       "    <tr>\n",
       "      <th>CLTV</th>\n",
       "      <td>1.0</td>\n",
       "      <td>22.307300</td>\n",
       "      <td>22.307300</td>\n",
       "      <td>116.283252</td>\n",
       "      <td>6.679131e-27</td>\n",
       "    </tr>\n",
       "    <tr>\n",
       "      <th>Residual</th>\n",
       "      <td>7041.0</td>\n",
       "      <td>1350.716412</td>\n",
       "      <td>0.191836</td>\n",
       "      <td>NaN</td>\n",
       "      <td>NaN</td>\n",
       "    </tr>\n",
       "  </tbody>\n",
       "</table>\n",
       "</div>"
      ],
      "text/plain": [
       "              df       sum_sq    mean_sq           F        PR(>F)\n",
       "CLTV         1.0    22.307300  22.307300  116.283252  6.679131e-27\n",
       "Residual  7041.0  1350.716412   0.191836         NaN           NaN"
      ]
     },
     "execution_count": 355,
     "metadata": {},
     "output_type": "execute_result"
    }
   ],
   "source": [
    "tab3"
   ]
  },
  {
   "cell_type": "markdown",
   "id": "ad9379c8",
   "metadata": {},
   "source": [
    "Les variables quantitatives qui ont une *p-value* inférieure à **0.05** signifie qu'elles ont un effet significatif dans l'apparition des modalités de notre variable cible. Et par conséquent, elles doivent être prises en compte lors de la modélisation.\n",
    "<br/>Et on voit, d'après le test ci-dessus, que toutes les 3 variables (*'Total Charges'*, *'Monthly Charges'* et *'CLTV'*) ont un *effet significatif*."
   ]
  },
  {
   "cell_type": "markdown",
   "id": "43862004",
   "metadata": {},
   "source": [
    "# II. Modélisation"
   ]
  },
  {
   "cell_type": "markdown",
   "id": "6210ed28",
   "metadata": {},
   "source": [
    "Pour la modélisation, on utilisera 3 modèles à savoir la *régression logistique*, le *KNN* et le *Random Forest*.\n",
    "\n",
    "<br/> On scindera cette partie en 2 sous-parties. La première consitera à utiliser ces modèles avec leurs paramètres par defaut et tout au long de la seconde sous-partie, on se souciera plus de l'optimisation de ces paramètres afin d'avoir de meilleures performances.\n"
   ]
  },
  {
   "cell_type": "code",
   "execution_count": 356,
   "id": "b09b0df4",
   "metadata": {},
   "outputs": [
    {
     "data": {
      "text/html": [
       "<div>\n",
       "<style scoped>\n",
       "    .dataframe tbody tr th:only-of-type {\n",
       "        vertical-align: middle;\n",
       "    }\n",
       "\n",
       "    .dataframe tbody tr th {\n",
       "        vertical-align: top;\n",
       "    }\n",
       "\n",
       "    .dataframe thead th {\n",
       "        text-align: right;\n",
       "    }\n",
       "</style>\n",
       "<table border=\"1\" class=\"dataframe\">\n",
       "  <thead>\n",
       "    <tr style=\"text-align: right;\">\n",
       "      <th></th>\n",
       "      <th>Monthly Charges</th>\n",
       "      <th>Total Charges</th>\n",
       "      <th>Churn Value</th>\n",
       "      <th>CLTV</th>\n",
       "      <th>Acampo</th>\n",
       "      <th>Acton</th>\n",
       "      <th>Adelanto</th>\n",
       "      <th>Adin</th>\n",
       "      <th>Agoura Hills</th>\n",
       "      <th>Aguanga</th>\n",
       "      <th>...</th>\n",
       "      <th>Yes</th>\n",
       "      <th>Month-to-month</th>\n",
       "      <th>One year</th>\n",
       "      <th>Two year</th>\n",
       "      <th>No</th>\n",
       "      <th>Yes</th>\n",
       "      <th>Bank transfer (automatic)</th>\n",
       "      <th>Credit card (automatic)</th>\n",
       "      <th>Electronic check</th>\n",
       "      <th>Mailed check</th>\n",
       "    </tr>\n",
       "  </thead>\n",
       "  <tbody>\n",
       "    <tr>\n",
       "      <th>0</th>\n",
       "      <td>53.85</td>\n",
       "      <td>108.15</td>\n",
       "      <td>1</td>\n",
       "      <td>3239</td>\n",
       "      <td>0.0</td>\n",
       "      <td>0.0</td>\n",
       "      <td>0.0</td>\n",
       "      <td>0.0</td>\n",
       "      <td>0.0</td>\n",
       "      <td>0.0</td>\n",
       "      <td>...</td>\n",
       "      <td>0.0</td>\n",
       "      <td>1.0</td>\n",
       "      <td>0.0</td>\n",
       "      <td>0.0</td>\n",
       "      <td>0.0</td>\n",
       "      <td>1.0</td>\n",
       "      <td>0.0</td>\n",
       "      <td>0.0</td>\n",
       "      <td>0.0</td>\n",
       "      <td>1.0</td>\n",
       "    </tr>\n",
       "    <tr>\n",
       "      <th>1</th>\n",
       "      <td>70.70</td>\n",
       "      <td>151.65</td>\n",
       "      <td>1</td>\n",
       "      <td>2701</td>\n",
       "      <td>0.0</td>\n",
       "      <td>0.0</td>\n",
       "      <td>0.0</td>\n",
       "      <td>0.0</td>\n",
       "      <td>0.0</td>\n",
       "      <td>0.0</td>\n",
       "      <td>...</td>\n",
       "      <td>0.0</td>\n",
       "      <td>1.0</td>\n",
       "      <td>0.0</td>\n",
       "      <td>0.0</td>\n",
       "      <td>0.0</td>\n",
       "      <td>1.0</td>\n",
       "      <td>0.0</td>\n",
       "      <td>0.0</td>\n",
       "      <td>1.0</td>\n",
       "      <td>0.0</td>\n",
       "    </tr>\n",
       "    <tr>\n",
       "      <th>2</th>\n",
       "      <td>99.65</td>\n",
       "      <td>820.50</td>\n",
       "      <td>1</td>\n",
       "      <td>5372</td>\n",
       "      <td>0.0</td>\n",
       "      <td>0.0</td>\n",
       "      <td>0.0</td>\n",
       "      <td>0.0</td>\n",
       "      <td>0.0</td>\n",
       "      <td>0.0</td>\n",
       "      <td>...</td>\n",
       "      <td>1.0</td>\n",
       "      <td>1.0</td>\n",
       "      <td>0.0</td>\n",
       "      <td>0.0</td>\n",
       "      <td>0.0</td>\n",
       "      <td>1.0</td>\n",
       "      <td>0.0</td>\n",
       "      <td>0.0</td>\n",
       "      <td>1.0</td>\n",
       "      <td>0.0</td>\n",
       "    </tr>\n",
       "    <tr>\n",
       "      <th>3</th>\n",
       "      <td>104.80</td>\n",
       "      <td>3046.05</td>\n",
       "      <td>1</td>\n",
       "      <td>5003</td>\n",
       "      <td>0.0</td>\n",
       "      <td>0.0</td>\n",
       "      <td>0.0</td>\n",
       "      <td>0.0</td>\n",
       "      <td>0.0</td>\n",
       "      <td>0.0</td>\n",
       "      <td>...</td>\n",
       "      <td>1.0</td>\n",
       "      <td>1.0</td>\n",
       "      <td>0.0</td>\n",
       "      <td>0.0</td>\n",
       "      <td>0.0</td>\n",
       "      <td>1.0</td>\n",
       "      <td>0.0</td>\n",
       "      <td>0.0</td>\n",
       "      <td>1.0</td>\n",
       "      <td>0.0</td>\n",
       "    </tr>\n",
       "    <tr>\n",
       "      <th>4</th>\n",
       "      <td>103.70</td>\n",
       "      <td>5036.30</td>\n",
       "      <td>1</td>\n",
       "      <td>5340</td>\n",
       "      <td>0.0</td>\n",
       "      <td>0.0</td>\n",
       "      <td>0.0</td>\n",
       "      <td>0.0</td>\n",
       "      <td>0.0</td>\n",
       "      <td>0.0</td>\n",
       "      <td>...</td>\n",
       "      <td>1.0</td>\n",
       "      <td>1.0</td>\n",
       "      <td>0.0</td>\n",
       "      <td>0.0</td>\n",
       "      <td>0.0</td>\n",
       "      <td>1.0</td>\n",
       "      <td>1.0</td>\n",
       "      <td>0.0</td>\n",
       "      <td>0.0</td>\n",
       "      <td>0.0</td>\n",
       "    </tr>\n",
       "  </tbody>\n",
       "</table>\n",
       "<p>5 rows × 1174 columns</p>\n",
       "</div>"
      ],
      "text/plain": [
       "   Monthly Charges  Total Charges  Churn Value  CLTV  Acampo  Acton  Adelanto  \\\n",
       "0            53.85         108.15            1  3239     0.0    0.0       0.0   \n",
       "1            70.70         151.65            1  2701     0.0    0.0       0.0   \n",
       "2            99.65         820.50            1  5372     0.0    0.0       0.0   \n",
       "3           104.80        3046.05            1  5003     0.0    0.0       0.0   \n",
       "4           103.70        5036.30            1  5340     0.0    0.0       0.0   \n",
       "\n",
       "   Adin  Agoura Hills  Aguanga  ...  Yes  Month-to-month  One year  Two year  \\\n",
       "0   0.0           0.0      0.0  ...  0.0             1.0       0.0       0.0   \n",
       "1   0.0           0.0      0.0  ...  0.0             1.0       0.0       0.0   \n",
       "2   0.0           0.0      0.0  ...  1.0             1.0       0.0       0.0   \n",
       "3   0.0           0.0      0.0  ...  1.0             1.0       0.0       0.0   \n",
       "4   0.0           0.0      0.0  ...  1.0             1.0       0.0       0.0   \n",
       "\n",
       "    No  Yes  Bank transfer (automatic)  Credit card (automatic)  \\\n",
       "0  0.0  1.0                        0.0                      0.0   \n",
       "1  0.0  1.0                        0.0                      0.0   \n",
       "2  0.0  1.0                        0.0                      0.0   \n",
       "3  0.0  1.0                        0.0                      0.0   \n",
       "4  0.0  1.0                        1.0                      0.0   \n",
       "\n",
       "   Electronic check  Mailed check  \n",
       "0               0.0           1.0  \n",
       "1               1.0           0.0  \n",
       "2               1.0           0.0  \n",
       "3               1.0           0.0  \n",
       "4               0.0           0.0  \n",
       "\n",
       "[5 rows x 1174 columns]"
      ]
     },
     "execution_count": 356,
     "metadata": {},
     "output_type": "execute_result"
    }
   ],
   "source": [
    "#ENCODAGE DES VARIABLES QUALITATIVES\n",
    "encoder = OneHotEncoder(sparse=False)\n",
    "df_clean = df.copy() #df après avoir supprimé toutes les variables à supprimer\n",
    "var_text = ['City', 'Phone Service','Senior Citizen', 'Partner', 'Dependents', 'Multiple Lines', 'Internet Service', 'Online Security','Online Backup', 'Device Protection', 'Tech Support', 'Streaming TV', 'Streaming Movies', 'Contract', 'Paperless Billing', 'Payment Method']\n",
    "\n",
    "for i in var_text:\n",
    "    a = encoder.fit_transform(np.array(df[i]).reshape((-1, 1))) # -1 car nbre de lignes inconnu\n",
    "    df_clean = pd.concat([df_clean, pd.DataFrame(a, columns=encoder.categories_[0], index=df.index)], axis=1)\n",
    "    df_clean.drop(i, axis=1, inplace=True)\n",
    "    \n",
    "df_clean.head()"
   ]
  },
  {
   "cell_type": "code",
   "execution_count": 357,
   "id": "6188f50c",
   "metadata": {},
   "outputs": [
    {
     "data": {
      "text/html": [
       "<div>\n",
       "<style scoped>\n",
       "    .dataframe tbody tr th:only-of-type {\n",
       "        vertical-align: middle;\n",
       "    }\n",
       "\n",
       "    .dataframe tbody tr th {\n",
       "        vertical-align: top;\n",
       "    }\n",
       "\n",
       "    .dataframe thead th {\n",
       "        text-align: right;\n",
       "    }\n",
       "</style>\n",
       "<table border=\"1\" class=\"dataframe\">\n",
       "  <thead>\n",
       "    <tr style=\"text-align: right;\">\n",
       "      <th></th>\n",
       "      <th>Monthly Charges</th>\n",
       "      <th>CLTV</th>\n",
       "      <th>Total Charges</th>\n",
       "      <th>Acampo</th>\n",
       "      <th>Acton</th>\n",
       "      <th>Adelanto</th>\n",
       "      <th>Adin</th>\n",
       "      <th>Agoura Hills</th>\n",
       "      <th>Aguanga</th>\n",
       "      <th>Ahwahnee</th>\n",
       "      <th>...</th>\n",
       "      <th>Yes</th>\n",
       "      <th>Month-to-month</th>\n",
       "      <th>One year</th>\n",
       "      <th>Two year</th>\n",
       "      <th>No</th>\n",
       "      <th>Yes</th>\n",
       "      <th>Bank transfer (automatic)</th>\n",
       "      <th>Credit card (automatic)</th>\n",
       "      <th>Electronic check</th>\n",
       "      <th>Mailed check</th>\n",
       "    </tr>\n",
       "  </thead>\n",
       "  <tbody>\n",
       "    <tr>\n",
       "      <th>0</th>\n",
       "      <td>-0.362660</td>\n",
       "      <td>-0.981675</td>\n",
       "      <td>-0.959674</td>\n",
       "      <td>0.0</td>\n",
       "      <td>0.0</td>\n",
       "      <td>0.0</td>\n",
       "      <td>0.0</td>\n",
       "      <td>0.0</td>\n",
       "      <td>0.0</td>\n",
       "      <td>0.0</td>\n",
       "      <td>...</td>\n",
       "      <td>0.0</td>\n",
       "      <td>1.0</td>\n",
       "      <td>0.0</td>\n",
       "      <td>0.0</td>\n",
       "      <td>0.0</td>\n",
       "      <td>1.0</td>\n",
       "      <td>0.0</td>\n",
       "      <td>0.0</td>\n",
       "      <td>0.0</td>\n",
       "      <td>1.0</td>\n",
       "    </tr>\n",
       "    <tr>\n",
       "      <th>1</th>\n",
       "      <td>0.197365</td>\n",
       "      <td>-1.436462</td>\n",
       "      <td>-0.940470</td>\n",
       "      <td>0.0</td>\n",
       "      <td>0.0</td>\n",
       "      <td>0.0</td>\n",
       "      <td>0.0</td>\n",
       "      <td>0.0</td>\n",
       "      <td>0.0</td>\n",
       "      <td>0.0</td>\n",
       "      <td>...</td>\n",
       "      <td>0.0</td>\n",
       "      <td>1.0</td>\n",
       "      <td>0.0</td>\n",
       "      <td>0.0</td>\n",
       "      <td>0.0</td>\n",
       "      <td>1.0</td>\n",
       "      <td>0.0</td>\n",
       "      <td>0.0</td>\n",
       "      <td>1.0</td>\n",
       "      <td>0.0</td>\n",
       "    </tr>\n",
       "    <tr>\n",
       "      <th>2</th>\n",
       "      <td>1.159546</td>\n",
       "      <td>0.821409</td>\n",
       "      <td>-0.645186</td>\n",
       "      <td>0.0</td>\n",
       "      <td>0.0</td>\n",
       "      <td>0.0</td>\n",
       "      <td>0.0</td>\n",
       "      <td>0.0</td>\n",
       "      <td>0.0</td>\n",
       "      <td>0.0</td>\n",
       "      <td>...</td>\n",
       "      <td>1.0</td>\n",
       "      <td>1.0</td>\n",
       "      <td>0.0</td>\n",
       "      <td>0.0</td>\n",
       "      <td>0.0</td>\n",
       "      <td>1.0</td>\n",
       "      <td>0.0</td>\n",
       "      <td>0.0</td>\n",
       "      <td>1.0</td>\n",
       "      <td>0.0</td>\n",
       "    </tr>\n",
       "    <tr>\n",
       "      <th>3</th>\n",
       "      <td>1.330711</td>\n",
       "      <td>0.509483</td>\n",
       "      <td>0.337349</td>\n",
       "      <td>0.0</td>\n",
       "      <td>0.0</td>\n",
       "      <td>0.0</td>\n",
       "      <td>0.0</td>\n",
       "      <td>0.0</td>\n",
       "      <td>0.0</td>\n",
       "      <td>0.0</td>\n",
       "      <td>...</td>\n",
       "      <td>1.0</td>\n",
       "      <td>1.0</td>\n",
       "      <td>0.0</td>\n",
       "      <td>0.0</td>\n",
       "      <td>0.0</td>\n",
       "      <td>1.0</td>\n",
       "      <td>0.0</td>\n",
       "      <td>0.0</td>\n",
       "      <td>1.0</td>\n",
       "      <td>0.0</td>\n",
       "    </tr>\n",
       "    <tr>\n",
       "      <th>4</th>\n",
       "      <td>1.294151</td>\n",
       "      <td>0.794358</td>\n",
       "      <td>1.216004</td>\n",
       "      <td>0.0</td>\n",
       "      <td>0.0</td>\n",
       "      <td>0.0</td>\n",
       "      <td>0.0</td>\n",
       "      <td>0.0</td>\n",
       "      <td>0.0</td>\n",
       "      <td>0.0</td>\n",
       "      <td>...</td>\n",
       "      <td>1.0</td>\n",
       "      <td>1.0</td>\n",
       "      <td>0.0</td>\n",
       "      <td>0.0</td>\n",
       "      <td>0.0</td>\n",
       "      <td>1.0</td>\n",
       "      <td>1.0</td>\n",
       "      <td>0.0</td>\n",
       "      <td>0.0</td>\n",
       "      <td>0.0</td>\n",
       "    </tr>\n",
       "  </tbody>\n",
       "</table>\n",
       "<p>5 rows × 1173 columns</p>\n",
       "</div>"
      ],
      "text/plain": [
       "   Monthly Charges      CLTV  Total Charges  Acampo  Acton  Adelanto  Adin  \\\n",
       "0        -0.362660 -0.981675      -0.959674     0.0    0.0       0.0   0.0   \n",
       "1         0.197365 -1.436462      -0.940470     0.0    0.0       0.0   0.0   \n",
       "2         1.159546  0.821409      -0.645186     0.0    0.0       0.0   0.0   \n",
       "3         1.330711  0.509483       0.337349     0.0    0.0       0.0   0.0   \n",
       "4         1.294151  0.794358       1.216004     0.0    0.0       0.0   0.0   \n",
       "\n",
       "   Agoura Hills  Aguanga  Ahwahnee  ...  Yes  Month-to-month  One year  \\\n",
       "0           0.0      0.0       0.0  ...  0.0             1.0       0.0   \n",
       "1           0.0      0.0       0.0  ...  0.0             1.0       0.0   \n",
       "2           0.0      0.0       0.0  ...  1.0             1.0       0.0   \n",
       "3           0.0      0.0       0.0  ...  1.0             1.0       0.0   \n",
       "4           0.0      0.0       0.0  ...  1.0             1.0       0.0   \n",
       "\n",
       "   Two year   No  Yes  Bank transfer (automatic)  Credit card (automatic)  \\\n",
       "0       0.0  0.0  1.0                        0.0                      0.0   \n",
       "1       0.0  0.0  1.0                        0.0                      0.0   \n",
       "2       0.0  0.0  1.0                        0.0                      0.0   \n",
       "3       0.0  0.0  1.0                        0.0                      0.0   \n",
       "4       0.0  0.0  1.0                        1.0                      0.0   \n",
       "\n",
       "   Electronic check  Mailed check  \n",
       "0               0.0           1.0  \n",
       "1               1.0           0.0  \n",
       "2               1.0           0.0  \n",
       "3               1.0           0.0  \n",
       "4               0.0           0.0  \n",
       "\n",
       "[5 rows x 1173 columns]"
      ]
     },
     "execution_count": 357,
     "metadata": {},
     "output_type": "execute_result"
    }
   ],
   "source": [
    "#STANDARDISATION DES VARIABLES QUANTITATIVES \n",
    "X = df_clean.drop(['Churn Value'], axis=1)\n",
    "y = df_clean['Churn Value']\n",
    "\n",
    "scaler = StandardScaler()\n",
    "c = ['Monthly Charges','CLTV','Total Charges']\n",
    "a = scaler.fit_transform(X[c])\n",
    "a\n",
    "standard = pd.DataFrame(a, columns=c, index=X.index)\n",
    "standard\n",
    "X.drop(c, axis=1, inplace=True)\n",
    "X_transformed = pd.concat([standard, X], axis=1)\n",
    "X_transformed.head()"
   ]
  },
  {
   "cell_type": "code",
   "execution_count": 91,
   "id": "a75d5967",
   "metadata": {},
   "outputs": [],
   "source": [
    "#Train set and test set\n",
    "X_train, X_test, y_train, y_test = train_test_split(X_transformed, y, test_size=0.2, stratify=y, random_state=42)"
   ]
  },
  {
   "cell_type": "markdown",
   "id": "c96db3ef",
   "metadata": {},
   "source": [
    "## II.1 MODELES NON OPTIMISES"
   ]
  },
  {
   "cell_type": "code",
   "execution_count": 328,
   "id": "2ad9e30a",
   "metadata": {},
   "outputs": [
    {
     "data": {
      "text/plain": [
       "KNeighborsClassifier()"
      ]
     },
     "execution_count": 328,
     "metadata": {},
     "output_type": "execute_result"
    }
   ],
   "source": [
    "#Entrainement\n",
    "model_rf = RandomForestClassifier()\n",
    "model_rl = LogisticRegression()\n",
    "model_knn= KNeighborsClassifier()\n",
    "\n",
    "model_rf.fit(X_train, y_train)\n",
    "model_rl.fit(X_train, y_train)\n",
    "model_knn.fit(X_train, y_train)"
   ]
  },
  {
   "cell_type": "code",
   "execution_count": 329,
   "id": "80ca6997",
   "metadata": {},
   "outputs": [],
   "source": [
    "#PREDICTION\n",
    "y_predict_rf = model_rf.predict(X_test)\n",
    "y_predict_rl = model_rl.predict(X_test)\n",
    "y_predict_knn = model_knn.predict(X_test)"
   ]
  },
  {
   "cell_type": "code",
   "execution_count": 330,
   "id": "19bbb4a5",
   "metadata": {},
   "outputs": [
    {
     "data": {
      "text/plain": [
       "0.79765390440677"
      ]
     },
     "execution_count": 330,
     "metadata": {},
     "output_type": "execute_result"
    }
   ],
   "source": [
    "# Accuracy moyenne du modèle RF sur le train set\n",
    "cross_val_score (model_rf, X_train, y_train, cv=5, scoring ='accuracy').mean()"
   ]
  },
  {
   "cell_type": "code",
   "execution_count": 331,
   "id": "4f98f6c9",
   "metadata": {},
   "outputs": [
    {
     "data": {
      "text/plain": [
       "0.8015594932080485"
      ]
     },
     "execution_count": 331,
     "metadata": {},
     "output_type": "execute_result"
    }
   ],
   "source": [
    "# Accuracy moyenne du modèle RL sur le train set\n",
    "cross_val_score (model_rl, X_train, y_train, cv=5, scoring ='accuracy').mean()"
   ]
  },
  {
   "cell_type": "code",
   "execution_count": 96,
   "id": "2ca0129e",
   "metadata": {},
   "outputs": [
    {
     "data": {
      "text/plain": [
       "0.7701433094668093"
      ]
     },
     "execution_count": 96,
     "metadata": {},
     "output_type": "execute_result"
    }
   ],
   "source": [
    "# Accuracy moyenne du modèle KNN sur le train set\n",
    "cross_val_score (model_knn, X_train, y_train, cv=5, scoring ='accuracy').mean()"
   ]
  },
  {
   "cell_type": "markdown",
   "id": "d9c9ff67",
   "metadata": {},
   "source": [
    "Les 3 scores précédents représentent l'*accuracy moyenne* des différents modèles suite à une *cross-validation*.\n",
    "<br/> En effet, avec la validation croisée, on divise l'échantillon en 5 Forlds, et par conséquent après les 5 combinaisons d'entraînements et de tests, l'algorithme nous retourne l'*accuracy moyenne*.\n",
    "<br/> En se basant sur ces résultats, on voit qu'en moyenne, sur le train set, la **RL** reste le meilleur modèle."
   ]
  },
  {
   "cell_type": "markdown",
   "id": "ef4cc5d1",
   "metadata": {},
   "source": [
    "L'objectif étant d'apprendre le modèle à bien prédire les nouvelles non vues, il serait donc incensé de se limiter à ce stade.\n",
    "<br/> Ainsi le code suivant nous permettra de comparer encore les accuracy de ces modèles mais cette fois-ci évalués sur le *test set*. "
   ]
  },
  {
   "cell_type": "code",
   "execution_count": 97,
   "id": "f5bb7ee5",
   "metadata": {},
   "outputs": [
    {
     "name": "stdout",
     "output_type": "stream",
     "text": [
      "Pourcentage de bien classés pour le modele RF: 0.794180269694819\n",
      "Pourcentage de bien classés pour le modele RL: 0.7863733144073811\n",
      "Pourcentage de bien classés pour le modele KNN: 0.758694109297374\n"
     ]
    }
   ],
   "source": [
    "#Accuracy sur le test set\n",
    "accuracy_modele_rf = accuracy_score(y_test, y_predict_rf)\n",
    "accuracy_modele_rl = accuracy_score(y_test, y_predict_rl)\n",
    "accuracy_modele_knn = accuracy_score(y_test, y_predict_knn)\n",
    "print('Pourcentage de bien classés pour le modele RF:',accuracy_modele_rf)\n",
    "print('Pourcentage de bien classés pour le modele RL:',accuracy_modele_rl)\n",
    "print('Pourcentage de bien classés pour le modele KNN:',accuracy_modele_knn)"
   ]
  },
  {
   "cell_type": "markdown",
   "id": "55d3e175",
   "metadata": {},
   "source": [
    "On voit que la donne a l'air de changer à une petite précision près. Sur le *test set*, c'est bien le **RF** qui fait mieux."
   ]
  },
  {
   "cell_type": "code",
   "execution_count": 98,
   "id": "0c3d568d",
   "metadata": {},
   "outputs": [
    {
     "data": {
      "image/png": "[encoded data removed]",
      "text/plain": [
       "<Figure size 360x360 with 2 Axes>"
      ]
     },
     "metadata": {
      "needs_background": "light"
     },
     "output_type": "display_data"
    },
    {
     "data": {
      "image/png": "[encoded data removed]",
      "text/plain": [
       "<Figure size 360x360 with 2 Axes>"
      ]
     },
     "metadata": {
      "needs_background": "light"
     },
     "output_type": "display_data"
    },
    {
     "data": {
      "image/png": "[encoded data removed]",
      "text/plain": [
       "<Figure size 360x360 with 2 Axes>"
      ]
     },
     "metadata": {
      "needs_background": "light"
     },
     "output_type": "display_data"
    }
   ],
   "source": [
    "#Matrice de confusion\n",
    "cm_rf=confusion_matrix(y_test,y_predict_rf)\n",
    "cm_rl=confusion_matrix(y_test,y_predict_rl) \n",
    "cm_knn=confusion_matrix(y_test,y_predict_knn)\n",
    "\n",
    "#Visualisation de la matrice de confusion\n",
    "f, ax=plt.subplots(figsize=(5,5))\n",
    "sns.heatmap(cm_rf,annot=True,linewidths=0.5,linecolor=\"red\",fmt=\".0f\",ax=ax)\n",
    "plt.xlabel(\"y_predict_rf\")\n",
    "plt.ylabel(\"y_test\")\n",
    "plt.title(\"Matrice de confusion Random Forest model\")\n",
    "plt.show()\n",
    "\n",
    "f, ax=plt.subplots(figsize=(5,5))\n",
    "sns.heatmap(cm_rl,annot=True,linewidths=0.5,linecolor=\"red\",fmt=\".0f\",ax=ax)\n",
    "plt.xlabel(\"y_predict_rl\")\n",
    "plt.ylabel(\"y_test\")\n",
    "plt.title(\"Matrice de confusion Logistic Regression model\")\n",
    "plt.show()\n",
    "\n",
    "f, ax=plt.subplots(figsize=(5,5))\n",
    "sns.heatmap(cm_knn,annot=True,linewidths=0.5,linecolor=\"red\",fmt=\".0f\",ax=ax)\n",
    "plt.xlabel(\"y_predict_knn\")\n",
    "plt.ylabel(\"y_test\")\n",
    "plt.title(\"Matrice de confusion KNN model\")\n",
    "plt.show()"
   ]
  },
  {
   "cell_type": "markdown",
   "id": "646de3ec",
   "metadata": {},
   "source": [
    "En observant ces 3 matrices de confusion, on voit bien que tous ces 3 modèles souffrent d'un *problème de prédiction* de la modalité **1**.\n",
    "\n",
    "<br/> Ce problème est essentiellement dû au fait qu'on a plus de **0** que de **1** dans nos données (*déséquilibre dans les données*).\n",
    "\n",
    "<br/> Ainsi pour pouvoir toujours comparer ces modèles entre eux, même en présence du problème de déséquilibre, on utilise l'indice de mesure de performance **AUC (l'aire sous la courbe ROC)** qui reste **robuste** au problème de *déséquilibre*.\n",
    "\n",
    "<br/>Mais plus loin, notament dans la seconde sous-partie, on utilisera un remède au problème de *déséquilibre dans les données* (**le rééchantillonnage**)."
   ]
  },
  {
   "cell_type": "code",
   "execution_count": 99,
   "id": "291b0032",
   "metadata": {},
   "outputs": [
    {
     "data": {
      "text/plain": [
       "<matplotlib.legend.Legend at 0x20330efd1c0>"
      ]
     },
     "execution_count": 99,
     "metadata": {},
     "output_type": "execute_result"
    },
    {
     "data": {
      "image/png": "[encoded data removed]",
      "text/plain": [
       "<Figure size 720x432 with 1 Axes>"
      ]
     },
     "metadata": {
      "needs_background": "light"
     },
     "output_type": "display_data"
    }
   ],
   "source": [
    "y_prob_rf = model_rf.predict_proba(X_test)[:,1]\n",
    "y_prob_rl = model_rl.predict_proba(X_test)[:,1]\n",
    "y_prob_knn = model_knn.predict_proba(X_test)[:,1]\n",
    "\n",
    "#Cas du modele RF\n",
    "plt.figure(figsize=(10, 6))\n",
    "fpr, tpr, thresholds = roc_curve(y_test, y_prob_rf)\n",
    "plt.plot(fpr, tpr, 'b-.', label='RF')\n",
    "\n",
    "#Cas du modèle RL\n",
    "fpr, tpr, thresholds = roc_curve(y_test, y_prob_rl)\n",
    "plt.plot(fpr, tpr, ':', label='RL', c='red')\n",
    "\n",
    "#Cas du modèle KNN\n",
    "fpr, tpr, thresholds = roc_curve(y_test, y_prob_knn)\n",
    "plt.plot(fpr, tpr, ':', label='KNN', c='yellow')\n",
    "\n",
    "plt.xlim([-0.01, 1.0])\n",
    "plt.ylim([0.0, 1.05])\n",
    "plt.legend()"
   ]
  },
  {
   "cell_type": "code",
   "execution_count": 100,
   "id": "78e3b556",
   "metadata": {},
   "outputs": [],
   "source": [
    "auc_modele_rf = roc_auc_score(y_test, y_predict_rf)\n",
    "auc_modele_rl = roc_auc_score(y_test, y_predict_rl)\n",
    "auc_modele_knn = roc_auc_score(y_test, y_predict_knn)"
   ]
  },
  {
   "cell_type": "code",
   "execution_count": 101,
   "id": "6fde5d6d",
   "metadata": {},
   "outputs": [
    {
     "name": "stdout",
     "output_type": "stream",
     "text": [
      "AUC du modele RF: 0.7028029657185668\n",
      "AUC du modele RL: 0.706027022139554\n",
      "AUC du modele KNN: 0.6931630886873854\n"
     ]
    }
   ],
   "source": [
    "print('AUC du modele RF:',  auc_modele_rf)\n",
    "print('AUC du modele RL:',  auc_modele_rl)\n",
    "print('AUC du modele KNN:', auc_modele_knn)"
   ]
  },
  {
   "cell_type": "markdown",
   "id": "27de24ff",
   "metadata": {},
   "source": [
    "On voit toujours que la *régression logistique* fait mieux que les 2 autres modèles."
   ]
  },
  {
   "cell_type": "markdown",
   "id": "614e6369",
   "metadata": {},
   "source": [
    "## II.2 MODELES OPTIMISES (AVEC DONNEES EQUILIBREES)"
   ]
  },
  {
   "cell_type": "markdown",
   "id": "d90181f9",
   "metadata": {},
   "source": [
    "Les modèles vus ci-dessus ont été utilisés avec leurs paramètres initialisés par defaut. Dans la suite nous essaierons de trouver de nouveaux paramètres, pour chaque model, qui augmenteront la performance du modèle par rapport à celui par defaut.\n",
    "\n",
    "<br/>Ces nouveaux modèles seront directement entraînés sur des données corrigées du problème de déséquilibre à travers une technique de rééchantillonage. Cette technique utilisera du *sur-échantillonnage* de la classe minoritaire afin que celle-ci puisse être bien représenter."
   ]
  },
  {
   "cell_type": "markdown",
   "id": "64219090",
   "metadata": {},
   "source": [
    "##### Equilibrage des données"
   ]
  },
  {
   "cell_type": "code",
   "execution_count": 176,
   "id": "f3d761c4",
   "metadata": {},
   "outputs": [],
   "source": [
    "X_train1= X_train.to_numpy()\n",
    "y_train1= y_train.to_numpy()"
   ]
  },
  {
   "cell_type": "code",
   "execution_count": 273,
   "id": "e1f2fb36",
   "metadata": {},
   "outputs": [],
   "source": [
    "from imblearn.over_sampling import SMOTE\n",
    "equilibre = SMOTE()\n",
    "X_equi, y_equi = equilibre.fit_sample(X_train1, y_train1)"
   ]
  },
  {
   "cell_type": "code",
   "execution_count": 274,
   "id": "05fcb15f",
   "metadata": {},
   "outputs": [
    {
     "data": {
      "text/plain": [
       "0    4139\n",
       "1    4139\n",
       "dtype: int64"
      ]
     },
     "execution_count": 274,
     "metadata": {},
     "output_type": "execute_result"
    }
   ],
   "source": [
    "pd.Series(y_equi).value_counts()"
   ]
  },
  {
   "cell_type": "markdown",
   "id": "92edf0a5",
   "metadata": {},
   "source": [
    "Avec cette technique de rééchantillonnage, on voit bien que les 2 modalités ont le même effectif ."
   ]
  },
  {
   "cell_type": "markdown",
   "id": "2974c1f8",
   "metadata": {},
   "source": [
    "### II.2.1 Random Forest"
   ]
  },
  {
   "cell_type": "code",
   "execution_count": 325,
   "id": "77bad1b3",
   "metadata": {},
   "outputs": [],
   "source": [
    "#Initialisation des grilles de valeurs à tester\n",
    "model_rf.get_params()\n",
    "param_grid={'n_estimators':np.arange(99, 102), 'min_samples_leaf':np.arange(1, 3), 'min_samples_split':np.arange(1, 3)}"
   ]
  },
  {
   "cell_type": "code",
   "execution_count": 326,
   "id": "796bae89",
   "metadata": {},
   "outputs": [],
   "source": [
    "grid=GridSearchCV(RandomForestClassifier(), param_grid, cv=5)"
   ]
  },
  {
   "cell_type": "code",
   "execution_count": 327,
   "id": "b106bd9d",
   "metadata": {},
   "outputs": [
    {
     "data": {
      "text/plain": [
       "GridSearchCV(cv=5, estimator=RandomForestClassifier(),\n",
       "             param_grid={'min_samples_leaf': array([1, 2]),\n",
       "                         'min_samples_split': array([1, 2]),\n",
       "                         'n_estimators': array([ 99, 100, 101])})"
      ]
     },
     "execution_count": 327,
     "metadata": {},
     "output_type": "execute_result"
    }
   ],
   "source": [
    "grid.fit(X_equi, y_equi)"
   ]
  },
  {
   "cell_type": "code",
   "execution_count": 278,
   "id": "ebff4508",
   "metadata": {},
   "outputs": [
    {
     "data": {
      "text/plain": [
       "0.8811395712013077"
      ]
     },
     "execution_count": 278,
     "metadata": {},
     "output_type": "execute_result"
    }
   ],
   "source": [
    "grid.best_score_"
   ]
  },
  {
   "cell_type": "code",
   "execution_count": 279,
   "id": "442543ef",
   "metadata": {},
   "outputs": [
    {
     "data": {
      "text/plain": [
       "{'min_samples_leaf': 1, 'min_samples_split': 2, 'n_estimators': 99}"
      ]
     },
     "execution_count": 279,
     "metadata": {},
     "output_type": "execute_result"
    }
   ],
   "source": [
    "grid.best_params_"
   ]
  },
  {
   "cell_type": "markdown",
   "id": "73ec00cc",
   "metadata": {},
   "source": [
    "Suite à l'optimisation des paramères, on voit que le Random Forest a nettement amélioré ses performances."
   ]
  },
  {
   "cell_type": "markdown",
   "id": "01c0edb7",
   "metadata": {},
   "source": [
    "### II.2.2 Régression Logistique"
   ]
  },
  {
   "cell_type": "code",
   "execution_count": 317,
   "id": "43a8ae98",
   "metadata": {},
   "outputs": [],
   "source": [
    "#Initialisation des grilles de valeurs à tester\n",
    "model_rl.get_params()\n",
    "param_grid={'C': [1,5,10, 15],'penalty':['l2'] }"
   ]
  },
  {
   "cell_type": "code",
   "execution_count": 318,
   "id": "3d9f2f33",
   "metadata": {},
   "outputs": [],
   "source": [
    "grid=GridSearchCV(LogisticRegression(), param_grid, cv=5)"
   ]
  },
  {
   "cell_type": "code",
   "execution_count": 319,
   "id": "4e022960",
   "metadata": {},
   "outputs": [
    {
     "data": {
      "text/plain": [
       "GridSearchCV(cv=5, estimator=LogisticRegression(),\n",
       "             param_grid={'C': [1, 5, 10, 15], 'penalty': ['l2']})"
      ]
     },
     "execution_count": 319,
     "metadata": {},
     "output_type": "execute_result"
    }
   ],
   "source": [
    "grid.fit(X_equi, y_equi)"
   ]
  },
  {
   "cell_type": "code",
   "execution_count": 320,
   "id": "3923a6a5",
   "metadata": {},
   "outputs": [
    {
     "data": {
      "text/plain": [
       "0.819525008392078"
      ]
     },
     "execution_count": 320,
     "metadata": {},
     "output_type": "execute_result"
    }
   ],
   "source": [
    "grid.best_score_"
   ]
  },
  {
   "cell_type": "code",
   "execution_count": 321,
   "id": "440aea29",
   "metadata": {},
   "outputs": [
    {
     "data": {
      "text/plain": [
       "{'C': 15, 'penalty': 'l2'}"
      ]
     },
     "execution_count": 321,
     "metadata": {},
     "output_type": "execute_result"
    }
   ],
   "source": [
    "grid.best_params_"
   ]
  },
  {
   "cell_type": "markdown",
   "id": "fbf42b4e",
   "metadata": {},
   "source": [
    "De même la régression logistique aussi améliore sa performance grâce à l'optimisation des paramètres."
   ]
  },
  {
   "cell_type": "markdown",
   "id": "82077388",
   "metadata": {},
   "source": [
    "### II.2.3 KNN"
   ]
  },
  {
   "cell_type": "code",
   "execution_count": 285,
   "id": "abc70f40",
   "metadata": {},
   "outputs": [
    {
     "data": {
      "text/plain": [
       "[<matplotlib.lines.Line2D at 0x20301392970>]"
      ]
     },
     "execution_count": 285,
     "metadata": {},
     "output_type": "execute_result"
    },
    {
     "data": {
      "image/png": "[encoded data removed]",
      "text/plain": [
       "<Figure size 432x288 with 1 Axes>"
      ]
     },
     "metadata": {
      "needs_background": "light"
     },
     "output_type": "display_data"
    }
   ],
   "source": [
    "#Recherche du nombre de voisins optimal\n",
    "\n",
    "Val_score=[]\n",
    "for i in range(1, 10):\n",
    "    score = cross_val_score (KNeighborsClassifier(i), X_equi, y_equi, cv=5).mean()\n",
    "    Val_score.append(score)\n",
    "plt.plot(Val_score)"
   ]
  },
  {
   "cell_type": "markdown",
   "id": "a219d31e",
   "metadata": {},
   "source": [
    "En observant cette courbe, on voit que le nombre de voisins optimal est de 2 car c'est le **KNN à 2 voisins** qui a le score le plus élevé. \n",
    "Donc par la suite, nous allons continuer avec le **KNN 2**."
   ]
  },
  {
   "cell_type": "code",
   "execution_count": 286,
   "id": "d31d7f14",
   "metadata": {},
   "outputs": [],
   "source": [
    "#On utilise aussi grid-search pour valider le nombre optimal de voisins qu'on a eu précédemment \n",
    "param_grid={'n_neighbors':np.arange(1, 10), 'metric':['euclidean']}"
   ]
  },
  {
   "cell_type": "code",
   "execution_count": 287,
   "id": "a78a4607",
   "metadata": {},
   "outputs": [
    {
     "data": {
      "text/plain": [
       "GridSearchCV(cv=5, estimator=KNeighborsClassifier(),\n",
       "             param_grid={'metric': ['euclidean'],\n",
       "                         'n_neighbors': array([1, 2, 3, 4, 5, 6, 7, 8, 9])})"
      ]
     },
     "execution_count": 287,
     "metadata": {},
     "output_type": "execute_result"
    }
   ],
   "source": [
    "grid=GridSearchCV(KNeighborsClassifier(), param_grid, cv=5)\n",
    "grid.fit(X_equi, y_equi)"
   ]
  },
  {
   "cell_type": "code",
   "execution_count": 288,
   "id": "2942f5b9",
   "metadata": {},
   "outputs": [
    {
     "data": {
      "text/plain": [
       "0.8436855816804588"
      ]
     },
     "execution_count": 288,
     "metadata": {},
     "output_type": "execute_result"
    }
   ],
   "source": [
    "grid.best_score_"
   ]
  },
  {
   "cell_type": "code",
   "execution_count": 289,
   "id": "2a482f4b",
   "metadata": {},
   "outputs": [
    {
     "data": {
      "text/plain": [
       "{'metric': 'euclidean', 'n_neighbors': 2}"
      ]
     },
     "execution_count": 289,
     "metadata": {},
     "output_type": "execute_result"
    }
   ],
   "source": [
    "grid.best_params_"
   ]
  },
  {
   "cell_type": "markdown",
   "id": "9388575f",
   "metadata": {},
   "source": [
    "On voit bien que KNN aussi améliore son accuracy. "
   ]
  },
  {
   "cell_type": "markdown",
   "id": "7a70b594",
   "metadata": {},
   "source": [
    "Sur le **train set** parmi les 3 modèles optimisés, le **RF** a la meilleure performance."
   ]
  },
  {
   "cell_type": "markdown",
   "id": "3476068d",
   "metadata": {},
   "source": [
    "Pour ce qui suit, on évaluera la performance de ces moèles sur le *test set*. "
   ]
  },
  {
   "cell_type": "markdown",
   "id": "4b084882",
   "metadata": {},
   "source": [
    "##### Evaluation sur le test set"
   ]
  },
  {
   "cell_type": "code",
   "execution_count": 322,
   "id": "66644455",
   "metadata": {},
   "outputs": [
    {
     "data": {
      "text/plain": [
       "RandomForestClassifier(n_estimators=99)"
      ]
     },
     "execution_count": 322,
     "metadata": {},
     "output_type": "execute_result"
    }
   ],
   "source": [
    "#Meilleurs modèles\n",
    "model_knn1= KNeighborsClassifier(2)\n",
    "model_rl1= LogisticRegression(C=15, penalty='l2')\n",
    "model_rf1= RandomForestClassifier(min_samples_leaf=1, min_samples_split=2, n_estimators=99)\n",
    "\n",
    "#Entraînement\n",
    "model_knn1.fit(X_equi, y_equi)\n",
    "model_rl1.fit(X_equi, y_equi)\n",
    "model_rf1.fit(X_equi, y_equi)"
   ]
  },
  {
   "cell_type": "code",
   "execution_count": 323,
   "id": "d52d1e90",
   "metadata": {},
   "outputs": [],
   "source": [
    "#Prédictions\n",
    "y_predict_knn1 = model_knn1.predict(X_test)\n",
    "y_predict_rl1 = model_rl1.predict(X_test)\n",
    "y_predict_rf1 = model_rf1.predict(X_test)"
   ]
  },
  {
   "cell_type": "code",
   "execution_count": 304,
   "id": "397fd53b",
   "metadata": {},
   "outputs": [],
   "source": [
    "# Matrices de confusion\n",
    "cm_knn=confusion_matrix(y_test,y_predict_knn1)\n",
    "cm_rl=confusion_matrix(y_test,y_predict_rl1)\n",
    "cm_rf=confusion_matrix(y_test,y_predict_rf1)"
   ]
  },
  {
   "cell_type": "code",
   "execution_count": 305,
   "id": "2a249e27",
   "metadata": {},
   "outputs": [
    {
     "data": {
      "text/plain": [
       "0.7097232079489"
      ]
     },
     "execution_count": 305,
     "metadata": {},
     "output_type": "execute_result"
    }
   ],
   "source": [
    "#Accuracy du meilleur KNN sur le test set\n",
    "accuracy_score(y_test, y_predict_knn1)"
   ]
  },
  {
   "cell_type": "code",
   "execution_count": 306,
   "id": "e869a74c",
   "metadata": {},
   "outputs": [
    {
     "data": {
      "text/plain": [
       "0.7366926898509581"
      ]
     },
     "execution_count": 306,
     "metadata": {},
     "output_type": "execute_result"
    }
   ],
   "source": [
    "#Accuracy de la meilleure RL sur le test set\n",
    "accuracy_score(y_test, y_predict_rl1)"
   ]
  },
  {
   "cell_type": "code",
   "execution_count": 307,
   "id": "ae4ae449",
   "metadata": {},
   "outputs": [
    {
     "data": {
      "text/plain": [
       "0.7828246983676366"
      ]
     },
     "execution_count": 307,
     "metadata": {},
     "output_type": "execute_result"
    }
   ],
   "source": [
    "#Accuracy du meilleur RF sur le test set\n",
    "accuracy_score(y_test, y_predict_rf1)"
   ]
  },
  {
   "cell_type": "code",
   "execution_count": 324,
   "id": "933da6e8",
   "metadata": {},
   "outputs": [
    {
     "data": {
      "text/plain": [
       "<matplotlib.legend.Legend at 0x20309478a90>"
      ]
     },
     "execution_count": 324,
     "metadata": {},
     "output_type": "execute_result"
    },
    {
     "data": {
      "image/png": "[encoded data removed]",
      "text/plain": [
       "<Figure size 720x432 with 1 Axes>"
      ]
     },
     "metadata": {
      "needs_background": "light"
     },
     "output_type": "display_data"
    }
   ],
   "source": [
    "y_prob_rf1 = model_rf1.predict_proba(X_test)[:,1]\n",
    "y_prob_rl1 = model_rl1.predict_proba(X_test)[:,1]\n",
    "y_prob_knn1 = model_knn1.predict_proba(X_test)[:,1]\n",
    "\n",
    "#Cas du modele RF\n",
    "plt.figure(figsize=(10, 6))\n",
    "fpr, tpr, thresholds = roc_curve(y_test, y_prob_rf1)\n",
    "plt.plot(fpr, tpr, 'b-.', label='RF')\n",
    "\n",
    "#Cas du modèle RL\n",
    "fpr, tpr, thresholds = roc_curve(y_test, y_prob_rl1)\n",
    "plt.plot(fpr, tpr, ':', label='RL', c='red')\n",
    "\n",
    "#Cas du modèle KNN\n",
    "fpr, tpr, thresholds = roc_curve(y_test, y_prob_knn1)\n",
    "plt.plot(fpr, tpr, ':', label='KNN', c='yellow')\n",
    "\n",
    "plt.xlim([-0.01, 1.0])\n",
    "plt.ylim([0.0, 1.05])\n",
    "plt.legend()"
   ]
  },
  {
   "cell_type": "code",
   "execution_count": 309,
   "id": "8de06d25",
   "metadata": {},
   "outputs": [],
   "source": [
    "auc_modele_rf1 = roc_auc_score(y_test, y_predict_rf1)\n",
    "auc_modele_rl1 = roc_auc_score(y_test, y_predict_rl1)\n",
    "auc_modele_knn1 = roc_auc_score(y_test, y_predict_knn1)"
   ]
  },
  {
   "cell_type": "code",
   "execution_count": 310,
   "id": "a63bd35c",
   "metadata": {},
   "outputs": [
    {
     "name": "stdout",
     "output_type": "stream",
     "text": [
      "AUC du modele RF: 0.7147110491100261\n",
      "AUC du modele RL: 0.7029476349169443\n",
      "AUC du modele KNN: 0.6769058875196983\n"
     ]
    }
   ],
   "source": [
    "print('AUC du modele RF:',  auc_modele_rf1)\n",
    "print('AUC du modele RL:',  auc_modele_rl1)\n",
    "print('AUC du modele KNN:', auc_modele_knn1)"
   ]
  },
  {
   "cell_type": "markdown",
   "id": "bf4b96da",
   "metadata": {},
   "source": [
    "# III. CONCLUSION"
   ]
  },
  {
   "cell_type": "markdown",
   "id": "36ec83c2",
   "metadata": {},
   "source": [
    "Aux termes de l'étude, il ressort que le **meilleur modèle**, parmi les 3 étudiés, pour bien prédire la variable cible \"Churn Value\" est le modèle **Random Forest** avec les paramètres **{min_samples_leaf=1, min_samples_split=2, n_estimators=99}**.\n",
    "\n",
    "<br/>Place alors à la mise en production de ce modèle."
   ]
  }
 ],
 "metadata": {
  "kernelspec": {
   "display_name": "Python 3",
   "language": "python",
   "name": "python3"
  },
  "language_info": {
   "codemirror_mode": {
    "name": "ipython",
    "version": 3
   },
   "file_extension": ".py",
   "mimetype": "text/x-python",
   "name": "python",
   "nbconvert_exporter": "python",
   "pygments_lexer": "ipython3",
   "version": "3.8.8"
  }
 },
 "nbformat": 4,
 "nbformat_minor": 5
}
